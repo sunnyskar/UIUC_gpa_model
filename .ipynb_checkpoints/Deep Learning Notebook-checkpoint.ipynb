{
 "cells": [
  {
   "cell_type": "markdown",
   "metadata": {
    "id": "aIBtoCvK9mxh"
   },
   "source": [
    "# Preparing Data\n",
    "\n",
    "This is largely the same as our Baseline Model"
   ]
  },
  {
   "cell_type": "code",
   "execution_count": 2,
   "metadata": {
    "id": "9MZ75VOJ7zNp"
   },
   "outputs": [],
   "source": [
    "import torch\n",
    "import torch.nn as nn\n",
    "import torch.optim as optim\n",
    "from sklearn.preprocessing import OneHotEncoder\n",
    "from sklearn.model_selection import train_test_split\n",
    "import numpy as np\n",
    "import pandas as pd\n",
    "from sklearn.preprocessing import LabelEncoder\n",
    "from torch.utils.data import DataLoader, TensorDataset\n",
    "from sklearn.model_selection import KFold\n",
    "import matplotlib.pyplot as plt"
   ]
  },
  {
   "cell_type": "code",
   "execution_count": 3,
   "metadata": {
    "id": "YgxKJMuP7htJ"
   },
   "outputs": [],
   "source": [
    "def getfile(location_pair,**kwargs): #tries to get local version and then defaults to google drive version\n",
    "    (loc,gdrive)=location_pair\n",
    "    try:\n",
    "        out=pd.read_csv(loc,**kwargs)\n",
    "    except FileNotFoundError:\n",
    "        print(\"local file not found; accessing Google Drive\")\n",
    "        loc = 'https://drive.google.com/uc?export=download&id='+gdrive.split('/')[-2]\n",
    "        out=pd.read_csv(loc,**kwargs)\n",
    "    return out"
   ]
  },
  {
   "cell_type": "code",
   "execution_count": 4,
   "metadata": {
    "colab": {
     "base_uri": "https://localhost:8080/",
     "height": 253
    },
    "executionInfo": {
     "elapsed": 4852,
     "status": "ok",
     "timestamp": 1732856572927,
     "user": {
      "displayName": "Sunskar Dhanker",
      "userId": "08080050347218288056"
     },
     "user_tz": 480
    },
    "id": "wKyCypmp71Vv",
    "outputId": "a15ea01f-82c1-49a6-f527-593ec7c4b47e"
   },
   "outputs": [
    {
     "data": {
      "text/html": [
       "<div>\n",
       "<style scoped>\n",
       "    .dataframe tbody tr th:only-of-type {\n",
       "        vertical-align: middle;\n",
       "    }\n",
       "\n",
       "    .dataframe tbody tr th {\n",
       "        vertical-align: top;\n",
       "    }\n",
       "\n",
       "    .dataframe thead th {\n",
       "        text-align: right;\n",
       "    }\n",
       "</style>\n",
       "<table border=\"1\" class=\"dataframe\">\n",
       "  <thead>\n",
       "    <tr style=\"text-align: right;\">\n",
       "      <th></th>\n",
       "      <th>Year</th>\n",
       "      <th>Term</th>\n",
       "      <th>YearTerm</th>\n",
       "      <th>Subject</th>\n",
       "      <th>Number</th>\n",
       "      <th>Course Title</th>\n",
       "      <th>Sched Type</th>\n",
       "      <th>A+</th>\n",
       "      <th>A</th>\n",
       "      <th>A-</th>\n",
       "      <th>...</th>\n",
       "      <th>B-</th>\n",
       "      <th>C+</th>\n",
       "      <th>C</th>\n",
       "      <th>C-</th>\n",
       "      <th>D+</th>\n",
       "      <th>D</th>\n",
       "      <th>D-</th>\n",
       "      <th>F</th>\n",
       "      <th>W</th>\n",
       "      <th>Primary Instructor</th>\n",
       "    </tr>\n",
       "  </thead>\n",
       "  <tbody>\n",
       "    <tr>\n",
       "      <th>0</th>\n",
       "      <td>2023</td>\n",
       "      <td>Spring</td>\n",
       "      <td>2023-sp</td>\n",
       "      <td>AAS</td>\n",
       "      <td>100</td>\n",
       "      <td>Intro Asian American Studies</td>\n",
       "      <td>DIS</td>\n",
       "      <td>0</td>\n",
       "      <td>11</td>\n",
       "      <td>5</td>\n",
       "      <td>...</td>\n",
       "      <td>0</td>\n",
       "      <td>0</td>\n",
       "      <td>0</td>\n",
       "      <td>0</td>\n",
       "      <td>0</td>\n",
       "      <td>0</td>\n",
       "      <td>0</td>\n",
       "      <td>1</td>\n",
       "      <td>0</td>\n",
       "      <td>Shin, Jeongsu</td>\n",
       "    </tr>\n",
       "    <tr>\n",
       "      <th>1</th>\n",
       "      <td>2023</td>\n",
       "      <td>Spring</td>\n",
       "      <td>2023-sp</td>\n",
       "      <td>AAS</td>\n",
       "      <td>100</td>\n",
       "      <td>Intro Asian American Studies</td>\n",
       "      <td>DIS</td>\n",
       "      <td>0</td>\n",
       "      <td>17</td>\n",
       "      <td>2</td>\n",
       "      <td>...</td>\n",
       "      <td>1</td>\n",
       "      <td>0</td>\n",
       "      <td>0</td>\n",
       "      <td>0</td>\n",
       "      <td>0</td>\n",
       "      <td>0</td>\n",
       "      <td>0</td>\n",
       "      <td>0</td>\n",
       "      <td>1</td>\n",
       "      <td>Shin, Jeongsu</td>\n",
       "    </tr>\n",
       "    <tr>\n",
       "      <th>2</th>\n",
       "      <td>2023</td>\n",
       "      <td>Spring</td>\n",
       "      <td>2023-sp</td>\n",
       "      <td>AAS</td>\n",
       "      <td>100</td>\n",
       "      <td>Intro Asian American Studies</td>\n",
       "      <td>DIS</td>\n",
       "      <td>0</td>\n",
       "      <td>13</td>\n",
       "      <td>2</td>\n",
       "      <td>...</td>\n",
       "      <td>2</td>\n",
       "      <td>0</td>\n",
       "      <td>0</td>\n",
       "      <td>1</td>\n",
       "      <td>0</td>\n",
       "      <td>0</td>\n",
       "      <td>0</td>\n",
       "      <td>1</td>\n",
       "      <td>0</td>\n",
       "      <td>Lee, Sabrina Y</td>\n",
       "    </tr>\n",
       "    <tr>\n",
       "      <th>3</th>\n",
       "      <td>2023</td>\n",
       "      <td>Spring</td>\n",
       "      <td>2023-sp</td>\n",
       "      <td>AAS</td>\n",
       "      <td>200</td>\n",
       "      <td>U.S. Race and Empire</td>\n",
       "      <td>LCD</td>\n",
       "      <td>6</td>\n",
       "      <td>15</td>\n",
       "      <td>5</td>\n",
       "      <td>...</td>\n",
       "      <td>0</td>\n",
       "      <td>0</td>\n",
       "      <td>0</td>\n",
       "      <td>0</td>\n",
       "      <td>0</td>\n",
       "      <td>1</td>\n",
       "      <td>0</td>\n",
       "      <td>1</td>\n",
       "      <td>0</td>\n",
       "      <td>Sawada, Emilia</td>\n",
       "    </tr>\n",
       "    <tr>\n",
       "      <th>4</th>\n",
       "      <td>2023</td>\n",
       "      <td>Spring</td>\n",
       "      <td>2023-sp</td>\n",
       "      <td>AAS</td>\n",
       "      <td>215</td>\n",
       "      <td>US Citizenship Comparatively</td>\n",
       "      <td>LCD</td>\n",
       "      <td>16</td>\n",
       "      <td>12</td>\n",
       "      <td>2</td>\n",
       "      <td>...</td>\n",
       "      <td>1</td>\n",
       "      <td>0</td>\n",
       "      <td>0</td>\n",
       "      <td>0</td>\n",
       "      <td>0</td>\n",
       "      <td>0</td>\n",
       "      <td>0</td>\n",
       "      <td>0</td>\n",
       "      <td>0</td>\n",
       "      <td>Kwon, Soo Ah</td>\n",
       "    </tr>\n",
       "  </tbody>\n",
       "</table>\n",
       "<p>5 rows × 22 columns</p>\n",
       "</div>"
      ],
      "text/plain": [
       "   Year    Term YearTerm Subject  Number                  Course Title  \\\n",
       "0  2023  Spring  2023-sp     AAS     100  Intro Asian American Studies   \n",
       "1  2023  Spring  2023-sp     AAS     100  Intro Asian American Studies   \n",
       "2  2023  Spring  2023-sp     AAS     100  Intro Asian American Studies   \n",
       "3  2023  Spring  2023-sp     AAS     200          U.S. Race and Empire   \n",
       "4  2023  Spring  2023-sp     AAS     215  US Citizenship Comparatively   \n",
       "\n",
       "  Sched Type  A+   A  A-  ...  B-  C+  C  C-  D+  D  D-  F  W  \\\n",
       "0        DIS   0  11   5  ...   0   0  0   0   0  0   0  1  0   \n",
       "1        DIS   0  17   2  ...   1   0  0   0   0  0   0  0  1   \n",
       "2        DIS   0  13   2  ...   2   0  0   1   0  0   0  1  0   \n",
       "3        LCD   6  15   5  ...   0   0  0   0   0  1   0  1  0   \n",
       "4        LCD  16  12   2  ...   1   0  0   0   0  0   0  0  0   \n",
       "\n",
       "   Primary Instructor  \n",
       "0       Shin, Jeongsu  \n",
       "1       Shin, Jeongsu  \n",
       "2      Lee, Sabrina Y  \n",
       "3      Sawada, Emilia  \n",
       "4        Kwon, Soo Ah  \n",
       "\n",
       "[5 rows x 22 columns]"
      ]
     },
     "execution_count": 4,
     "metadata": {},
     "output_type": "execute_result"
    }
   ],
   "source": [
    "fname=(\"./uiuc-gpa-dataset.csv\",\"https://drive.google.com/file/d/1NjCKO79SjdTfIxXWjQWAE0OzqAsM-Ysy/view?usp=sharing\")\n",
    "df=getfile(fname)\n",
    "df.head()"
   ]
  },
  {
   "cell_type": "code",
   "execution_count": 5,
   "metadata": {
    "colab": {
     "base_uri": "https://localhost:8080/"
    },
    "executionInfo": {
     "elapsed": 269,
     "status": "ok",
     "timestamp": 1732856573194,
     "user": {
      "displayName": "Sunskar Dhanker",
      "userId": "08080050347218288056"
     },
     "user_tz": 480
    },
    "id": "UabFGluEJBXn",
    "outputId": "1666bc25-c273-4b6c-c985-c5d56a923f15"
   },
   "outputs": [
    {
     "data": {
      "text/plain": [
       "array(['AAS', '100', '2023-sp', 'DIS', 'Shin, Jeongsu'], dtype='<U25')"
      ]
     },
     "execution_count": 5,
     "metadata": {},
     "output_type": "execute_result"
    }
   ],
   "source": [
    "parameter_columns = ['Subject', 'Number', 'YearTerm', 'Sched Type', 'Primary Instructor']\n",
    "temp = df[parameter_columns].values\n",
    "X = []\n",
    "for i in range(len(temp)):\n",
    "    X.append([str(temp[i,0]), str(temp[i,1]), str(temp[i,2]), str(temp[i,3]), str(temp[i,4])])\n",
    "X = np.array(X)\n",
    "X[0]"
   ]
  },
  {
   "cell_type": "code",
   "execution_count": 6,
   "metadata": {
    "colab": {
     "base_uri": "https://localhost:8080/"
    },
    "executionInfo": {
     "elapsed": 933,
     "status": "ok",
     "timestamp": 1732856574125,
     "user": {
      "displayName": "Sunskar Dhanker",
      "userId": "08080050347218288056"
     },
     "user_tz": 480
    },
    "id": "85ELCFWLDCy0",
    "outputId": "18c6686c-5dd6-4b37-a4cd-98ccde034e0c"
   },
   "outputs": [
    {
     "name": "stdout",
     "output_type": "stream",
     "text": [
      "[100.          92.30769231  84.61538462  76.92307692  69.23076923\n",
      "  61.53846154  53.84615385  46.15384615  38.46153846  30.76923077\n",
      "  23.07692308  15.38461538   7.69230769   0.        ]\n",
      "2\n"
     ]
    }
   ],
   "source": [
    "grade_columns = ['A+', 'A', 'A-', 'B+', 'B', 'B-', 'C+', 'C', 'C-', 'D+', 'D', 'D-', 'F', 'W']\n",
    "grade_percent = np.linspace(100,0, len(grade_columns))\n",
    "print(grade_percent)\n",
    "\n",
    "temp = df[grade_columns].values\n",
    "Z = []\n",
    "for i in range(len(temp)):\n",
    "    score = np.sum(temp[i]*grade_percent)/np.sum(temp[i])\n",
    "    idx = (np.abs(grade_percent - score)).argmin()\n",
    "    Z.append(idx)\n",
    "Z = np.array(Z)\n",
    "print(Z[0])\n",
    "# Prepare data\n",
    "Z_tensor = torch.tensor(Z, dtype=torch.long)"
   ]
  },
  {
   "cell_type": "markdown",
   "metadata": {
    "id": "HPfxkvqqJ29I"
   },
   "source": [
    "Pre-processing the input data before splitting"
   ]
  },
  {
   "cell_type": "code",
   "execution_count": 7,
   "metadata": {
    "id": "skAFwBLbJ6AQ"
   },
   "outputs": [],
   "source": [
    "# Extract each feature column\n",
    "subject_column = X[:, 0]  #  'AAS'\n",
    "number_column = X[:, 1]   # '100'\n",
    "term_column = X[:, 2]     # '2023-sp'\n",
    "sched_type_column = X[:, 3]  # 'DIS'\n",
    "instructor_column = X[:, 4]  # 'Shin, Jeongsu'\n",
    "\n",
    "# Initialize label encoders for each column\n",
    "subject_encoder = LabelEncoder()\n",
    "number_encoder = LabelEncoder()\n",
    "term_encoder = LabelEncoder()\n",
    "sched_type_encoder = LabelEncoder()\n",
    "instructor_encoder = LabelEncoder()\n",
    "\n",
    "# Fit and transform each column separately\n",
    "subject_encoded = subject_encoder.fit_transform(subject_column)\n",
    "number_encoded = number_encoder.fit_transform(number_column)\n",
    "term_encoded = term_encoder.fit_transform(term_column)\n",
    "sched_type_encoded = sched_type_encoder.fit_transform(sched_type_column)\n",
    "instructor_encoded = instructor_encoder.fit_transform(instructor_column)\n",
    "\n",
    "# Combine all encoded columns into a single feature array\n",
    "X_encoded = np.column_stack((subject_encoded, number_encoded, term_encoded, sched_type_encoded, instructor_encoded))\n",
    "\n",
    "# Convert to PyTorch tensor\n",
    "X_tensor = torch.tensor(X_encoded, dtype=torch.long)"
   ]
  },
  {
   "cell_type": "code",
   "execution_count": 8,
   "metadata": {
    "id": "TXUPn_nZDNEs"
   },
   "outputs": [],
   "source": [
    "X_train, X_temp, Z_train, Z_temp = train_test_split(X_tensor, Z_tensor, test_size=0.3, random_state=42)\n",
    "X_val, X_test, Z_val, Z_test = train_test_split(X_temp, Z_temp, test_size=0.5, random_state=42)\n",
    "\n",
    "batch_size = 64\n",
    "train_loader = DataLoader(TensorDataset(X_train, Z_train), batch_size=batch_size, shuffle=True)\n",
    "val_loader = DataLoader(TensorDataset(X_val, Z_val), batch_size=batch_size)\n",
    "test_loader = DataLoader(TensorDataset(X_test, Z_test), batch_size=batch_size)"
   ]
  },
  {
   "cell_type": "markdown",
   "metadata": {
    "id": "cxWkMTIN9q94"
   },
   "source": [
    "# Defining Model\n",
    "\n",
    "We chose to have an embeddings layer for each feature because they're currently one-hot encoded, and an embedding layer maps each category to a low-dimensional vector. We follow this up with 3 fully connected layers with relu activations, with one dropout layer interspersed between the first and second linear layers to prevent overfitting."
   ]
  },
  {
   "cell_type": "code",
   "execution_count": 9,
   "metadata": {
    "id": "6jrPC1O89BAA"
   },
   "outputs": [],
   "source": [
    "class GradePredictionModel(nn.Module):\n",
    "    def __init__(self, num_classes, vocab_sizes, dropval=0.3, embedding_dim=50, hidden_dim=128):\n",
    "        super(GradePredictionModel, self).__init__()\n",
    "\n",
    "        # Create an embedding for each categorical feature\n",
    "        self.embeddings = nn.ModuleList(\n",
    "            [nn.Embedding(vocab_size, embedding_dim) for vocab_size in vocab_sizes]\n",
    "        )\n",
    "\n",
    "        # Adjust the input size for the fully connected layers\n",
    "        self.fc1 = nn.Linear(embedding_dim * len(vocab_sizes), hidden_dim)\n",
    "        self.fc2 = nn.Linear(hidden_dim, hidden_dim // 2)\n",
    "        self.fc3 = nn.Linear(hidden_dim // 2, num_classes)\n",
    "\n",
    "        self.relu = nn.ReLU()\n",
    "        self.dropout = nn.Dropout(dropval)\n",
    "\n",
    "    def forward(self, x):\n",
    "        # Pass each feature through its respective embedding layer\n",
    "        embedded = [embedding(x[:, i]) for i, embedding in enumerate(self.embeddings)]\n",
    "        x = torch.cat(embedded, dim=1)  # Concatenate all embeddings\n",
    "\n",
    "        x = self.relu(self.fc1(x))\n",
    "        x = self.dropout(x)\n",
    "        x = self.relu(self.fc2(x))\n",
    "        x = self.fc3(x)\n",
    "\n",
    "        return x\n"
   ]
  },
  {
   "cell_type": "code",
   "execution_count": 10,
   "metadata": {
    "id": "0VQMYDS1LXI_"
   },
   "outputs": [],
   "source": [
    "num_classes = len(grade_percent)\n",
    "vocab_sizes = [\n",
    "    len(subject_encoder.classes_),\n",
    "    len(number_encoder.classes_),\n",
    "    len(term_encoder.classes_),\n",
    "    len(sched_type_encoder.classes_),\n",
    "    len(instructor_encoder.classes_)\n",
    "]\n",
    "model = GradePredictionModel(num_classes, vocab_sizes)\n",
    "\n",
    "loss_fn = nn.CrossEntropyLoss()\n",
    "optimizer = optim.Adam(model.parameters(), lr=0.001)"
   ]
  },
  {
   "cell_type": "markdown",
   "metadata": {
    "id": "af0VGxwxDVXp"
   },
   "source": [
    "# Training Loop"
   ]
  },
  {
   "cell_type": "code",
   "execution_count": null,
   "metadata": {
    "colab": {
     "base_uri": "https://localhost:8080/"
    },
    "executionInfo": {
     "elapsed": 591285,
     "status": "ok",
     "timestamp": 1732857165698,
     "user": {
      "displayName": "Sunskar Dhanker",
      "userId": "08080050347218288056"
     },
     "user_tz": 480
    },
    "id": "CkbSQVeSDXEJ",
    "outputId": "ab27c814-8738-42da-dad1-eefdd26e9650"
   },
   "outputs": [
    {
     "name": "stdout",
     "output_type": "stream",
     "text": [
      "Epoch [1/100], Loss: 1.4816, Val Loss: 1.3723\n",
      "Epoch [2/100], Loss: 1.3173, Val Loss: 1.2991\n",
      "Epoch [3/100], Loss: 1.2388, Val Loss: 1.2588\n",
      "Epoch [4/100], Loss: 1.1725, Val Loss: 1.2411\n",
      "Epoch [5/100], Loss: 1.1197, Val Loss: 1.2232\n",
      "Epoch [6/100], Loss: 1.0761, Val Loss: 1.2154\n",
      "Epoch [7/100], Loss: 1.0372, Val Loss: 1.2070\n",
      "Epoch [8/100], Loss: 1.0045, Val Loss: 1.2104\n",
      "Epoch [9/100], Loss: 0.9751, Val Loss: 1.2065\n",
      "Epoch [10/100], Loss: 0.9502, Val Loss: 1.2188\n",
      "Epoch [11/100], Loss: 0.9268, Val Loss: 1.2260\n",
      "Epoch [12/100], Loss: 0.8984, Val Loss: 1.2399\n",
      "Epoch [13/100], Loss: 0.8821, Val Loss: 1.2576\n",
      "Epoch [14/100], Loss: 0.8623, Val Loss: 1.2683\n",
      "Epoch [15/100], Loss: 0.8442, Val Loss: 1.2826\n",
      "Epoch [16/100], Loss: 0.8273, Val Loss: 1.2929\n",
      "Epoch [17/100], Loss: 0.8126, Val Loss: 1.3134\n",
      "Epoch [18/100], Loss: 0.7940, Val Loss: 1.3319\n",
      "Epoch [19/100], Loss: 0.7829, Val Loss: 1.3440\n",
      "Epoch [20/100], Loss: 0.7647, Val Loss: 1.3533\n",
      "Epoch [21/100], Loss: 0.7546, Val Loss: 1.3732\n",
      "Epoch [22/100], Loss: 0.7444, Val Loss: 1.3969\n",
      "Epoch [23/100], Loss: 0.7329, Val Loss: 1.4389\n",
      "Epoch [24/100], Loss: 0.7192, Val Loss: 1.4801\n",
      "Epoch [25/100], Loss: 0.7126, Val Loss: 1.4751\n",
      "Epoch [26/100], Loss: 0.7000, Val Loss: 1.4843\n",
      "Epoch [27/100], Loss: 0.6871, Val Loss: 1.5208\n",
      "Epoch [28/100], Loss: 0.6801, Val Loss: 1.5113\n",
      "Epoch [29/100], Loss: 0.6658, Val Loss: 1.5606\n",
      "Epoch [30/100], Loss: 0.6585, Val Loss: 1.5849\n",
      "Epoch [31/100], Loss: 0.6521, Val Loss: 1.6048\n",
      "Epoch [32/100], Loss: 0.6452, Val Loss: 1.6278\n",
      "Epoch [33/100], Loss: 0.6342, Val Loss: 1.6427\n",
      "Epoch [34/100], Loss: 0.6279, Val Loss: 1.6742\n",
      "Epoch [35/100], Loss: 0.6163, Val Loss: 1.7127\n",
      "Epoch [36/100], Loss: 0.6177, Val Loss: 1.7243\n",
      "Epoch [37/100], Loss: 0.6071, Val Loss: 1.7507\n",
      "Epoch [38/100], Loss: 0.5984, Val Loss: 1.7787\n",
      "Epoch [39/100], Loss: 0.5937, Val Loss: 1.8293\n"
     ]
    }
   ],
   "source": [
    "# Training Loop\n",
    "def train_model(model, train_loader, val_loader, loss_fn, optimizer, num_epochs=100):\n",
    "    for epoch in range(num_epochs):\n",
    "        model.train()\n",
    "        train_loss = 0\n",
    "        for X_batch, Z_batch in train_loader:\n",
    "          if Z_batch.ndim > 1:\n",
    "            Z_batch = Z_batch.argmax(dim=1)\n",
    "          optimizer.zero_grad()\n",
    "          outputs = model(X_batch)\n",
    "          loss = loss_fn(outputs, Z_batch)\n",
    "          loss.backward()\n",
    "          optimizer.step()\n",
    "          train_loss += loss.item()\n",
    "\n",
    "        # Validation\n",
    "        model.eval()\n",
    "        val_loss = 0\n",
    "        with torch.no_grad():\n",
    "          for X_batch, Z_batch in val_loader:\n",
    "            outputs = model(X_batch)\n",
    "            loss = loss_fn(outputs, Z_batch)\n",
    "            val_loss += loss.item()\n",
    "\n",
    "        print(f\"Epoch [{epoch + 1}/{num_epochs}], Loss: {train_loss/len(train_loader):.4f}, Val Loss: {val_loss/len(val_loader):.4f}\")\n",
    "\n",
    "\n",
    "train_model(model, train_loader, val_loader, loss_fn, optimizer)"
   ]
  },
  {
   "cell_type": "markdown",
   "metadata": {
    "id": "vFGIzBrmDij6"
   },
   "source": [
    "# Evaluation\n",
    "\n",
    "For evaluation, we came up with a metric for \"Relaxed accuracy.\" This was because if the ground truth was an A+, but the model predicted an A, it would be treated as \"wrong\", even though a prediction of A is still pretty good. This metric uses the grade difference to score predictions based on how close they are to the true label. The closer the prediction, the higher the score.\n",
    "\n",
    "The math behind this metric is we first calculate the difference (so an A+ is much \"closer\" to an A, with a distance of 1, than it is to an F, with a distance of 12). We then divide this by the \"max distance,\" or the maximum one-hot encoding of the labels (there are 14 labels, labelled 0 to 13). The maximum possible difference is 13. So the difference divided by the maximum difference shows a \"percent\" error. So if the label was A+, and we predicted A, we got an accuracy of 12/13. Whereas if we predicted W, we got an accuracy of 0. Thus, this relaxed accuracy shows us a much clearer picture.\n",
    "\n",
    "Thus, while we only predict around 50% of the labels exactly, we have around 96% accuracy, meaning most of our predictions were very close. This number is similar to if we exactly predicted 50% of the labels, were only plus/minus (A to A+, B to B-, etc.) off on 40%, and were two grades off (A+ to A-, A to B+, A- to B, etc.) on the remaining 10%."
   ]
  },
  {
   "cell_type": "code",
   "execution_count": null,
   "metadata": {
    "colab": {
     "base_uri": "https://localhost:8080/"
    },
    "executionInfo": {
     "elapsed": 191,
     "status": "ok",
     "timestamp": 1732857165886,
     "user": {
      "displayName": "Sunskar Dhanker",
      "userId": "08080050347218288056"
     },
     "user_tz": 480
    },
    "id": "ZpYQd8rnDbnY",
    "outputId": "bafcd44a-4704-4c83-a672-3271d500916e"
   },
   "outputs": [
    {
     "name": "stdout",
     "output_type": "stream",
     "text": [
      "Test Accuracy: 50.31%\n",
      "Relaxed Test Accuracy: 95.40%\n"
     ]
    },
    {
     "data": {
      "text/plain": [
       "(50.31367628607277, 95.4006469729508)"
      ]
     },
     "execution_count": 32,
     "metadata": {},
     "output_type": "execute_result"
    }
   ],
   "source": [
    "def evaluate(model, test_loader):\n",
    "    model.eval()\n",
    "    correct = 0\n",
    "    total = 0\n",
    "    relaxed_score = 0\n",
    "\n",
    "    with torch.no_grad():\n",
    "        for X_batch, Z_batch in test_loader:\n",
    "            outputs = model(X_batch)\n",
    "            _, predicted = torch.max(outputs, 1)\n",
    "\n",
    "            total += Z_batch.size(0)\n",
    "            correct += (predicted == Z_batch).sum().item()\n",
    "\n",
    "            grade_diff = torch.abs(predicted - Z_batch)\n",
    "            max_distance = len(grade_columns) - 1\n",
    "            relaxed_score += (1 - (grade_diff / max_distance)).sum().item()\n",
    "\n",
    "    relaxed_accuracy = 100 * relaxed_score / total\n",
    "    accuracy = 100 * correct / total\n",
    "    print(f\"Test Accuracy: {accuracy:.2f}%\")\n",
    "    print(f\"Relaxed Test Accuracy: {relaxed_accuracy:.2f}%\")\n",
    "    return accuracy, relaxed_accuracy\n",
    "\n",
    "evaluate(model, test_loader)"
   ]
  },
  {
   "cell_type": "markdown",
   "metadata": {
    "id": "XudnwdZig73G"
   },
   "source": [
    "# Mini Batch Analysis\n",
    "We have tried out 5 different batch sizes (16, 32, 64, 128, 256) for our mini-batch learning. We ran the training for these different batch sizes for a fewer number of epochs just enough so we could understand which one was providing better results. We've plotted our findings below.\n",
    "\n",
    "Our conlusion from this analysis is that although each of the mini-batch sizes produced slight variations in accuracies, the variation was insignificant. Thus the mini-batch size had little impact on our final model."
   ]
  },
  {
   "cell_type": "code",
   "execution_count": null,
   "metadata": {
    "id": "wYjhpmtlb0hu"
   },
   "outputs": [],
   "source": [
    "batch_sizes = [16, 32, 64, 128, 256]\n",
    "train_loaders = []\n",
    "val_loaders = []\n",
    "test_loaders = []\n",
    "for batch_size in batch_sizes:\n",
    "    train_loaders.append(DataLoader(TensorDataset(X_train, Z_train), batch_size=batch_size, shuffle=True))\n",
    "    val_loaders.append(DataLoader(TensorDataset(X_val, Z_val), batch_size=batch_size))\n",
    "    test_loaders.append(DataLoader(TensorDataset(X_test, Z_test), batch_size=batch_size))"
   ]
  },
  {
   "cell_type": "code",
   "execution_count": null,
   "metadata": {
    "colab": {
     "base_uri": "https://localhost:8080/"
    },
    "executionInfo": {
     "elapsed": 518143,
     "status": "ok",
     "timestamp": 1732857684027,
     "user": {
      "displayName": "Sunskar Dhanker",
      "userId": "08080050347218288056"
     },
     "user_tz": 480
    },
    "id": "c9yj9Tbts4qq",
    "outputId": "992450de-9b96-47e9-b706-465a66079945"
   },
   "outputs": [
    {
     "name": "stdout",
     "output_type": "stream",
     "text": [
      "Training with batch size: 16\n",
      "Epoch [1/10], Loss: 1.4407, Val Loss: 1.3499\n",
      "Epoch [2/10], Loss: 1.2847, Val Loss: 1.2844\n",
      "Epoch [3/10], Loss: 1.1959, Val Loss: 1.2270\n",
      "Epoch [4/10], Loss: 1.1328, Val Loss: 1.2126\n",
      "Epoch [5/10], Loss: 1.0756, Val Loss: 1.2034\n",
      "Epoch [6/10], Loss: 1.0319, Val Loss: 1.2050\n",
      "Epoch [7/10], Loss: 0.9920, Val Loss: 1.1964\n",
      "Epoch [8/10], Loss: 0.9607, Val Loss: 1.2046\n",
      "Epoch [9/10], Loss: 0.9356, Val Loss: 1.2133\n",
      "Epoch [10/10], Loss: 0.9066, Val Loss: 1.2343\n",
      "Test Accuracy: 50.38%\n",
      "Relaxed Test Accuracy: 95.54%\n",
      "Training with batch size: 32\n",
      "Epoch [1/10], Loss: 1.4586, Val Loss: 1.3543\n",
      "Epoch [2/10], Loss: 1.2979, Val Loss: 1.2831\n",
      "Epoch [3/10], Loss: 1.2119, Val Loss: 1.2419\n",
      "Epoch [4/10], Loss: 1.1459, Val Loss: 1.2262\n",
      "Epoch [5/10], Loss: 1.0939, Val Loss: 1.2098\n",
      "Epoch [6/10], Loss: 1.0468, Val Loss: 1.2092\n",
      "Epoch [7/10], Loss: 1.0080, Val Loss: 1.2104\n",
      "Epoch [8/10], Loss: 0.9760, Val Loss: 1.2101\n",
      "Epoch [9/10], Loss: 0.9463, Val Loss: 1.2248\n",
      "Epoch [10/10], Loss: 0.9209, Val Loss: 1.2248\n",
      "Test Accuracy: 50.39%\n",
      "Relaxed Test Accuracy: 95.54%\n",
      "Training with batch size: 64\n",
      "Epoch [1/10], Loss: 1.4939, Val Loss: 1.3761\n",
      "Epoch [2/10], Loss: 1.3178, Val Loss: 1.3069\n",
      "Epoch [3/10], Loss: 1.2369, Val Loss: 1.2591\n",
      "Epoch [4/10], Loss: 1.1697, Val Loss: 1.2364\n",
      "Epoch [5/10], Loss: 1.1177, Val Loss: 1.2299\n",
      "Epoch [6/10], Loss: 1.0730, Val Loss: 1.2140\n",
      "Epoch [7/10], Loss: 1.0344, Val Loss: 1.2186\n",
      "Epoch [8/10], Loss: 0.9992, Val Loss: 1.2105\n",
      "Epoch [9/10], Loss: 0.9712, Val Loss: 1.2229\n",
      "Epoch [10/10], Loss: 0.9426, Val Loss: 1.2325\n",
      "Test Accuracy: 50.19%\n",
      "Relaxed Test Accuracy: 95.50%\n",
      "Training with batch size: 128\n",
      "Epoch [1/10], Loss: 1.5284, Val Loss: 1.3960\n",
      "Epoch [2/10], Loss: 1.3509, Val Loss: 1.3326\n",
      "Epoch [3/10], Loss: 1.2759, Val Loss: 1.2844\n",
      "Epoch [4/10], Loss: 1.2131, Val Loss: 1.2614\n",
      "Epoch [5/10], Loss: 1.1587, Val Loss: 1.2383\n",
      "Epoch [6/10], Loss: 1.1136, Val Loss: 1.2329\n",
      "Epoch [7/10], Loss: 1.0752, Val Loss: 1.2196\n",
      "Epoch [8/10], Loss: 1.0404, Val Loss: 1.2224\n",
      "Epoch [9/10], Loss: 1.0127, Val Loss: 1.2214\n",
      "Epoch [10/10], Loss: 0.9823, Val Loss: 1.2329\n",
      "Test Accuracy: 49.62%\n",
      "Relaxed Test Accuracy: 95.44%\n",
      "Training with batch size: 256\n",
      "Epoch [1/10], Loss: 1.6063, Val Loss: 1.4422\n",
      "Epoch [2/10], Loss: 1.3839, Val Loss: 1.3522\n",
      "Epoch [3/10], Loss: 1.3047, Val Loss: 1.3047\n",
      "Epoch [4/10], Loss: 1.2490, Val Loss: 1.2719\n",
      "Epoch [5/10], Loss: 1.1958, Val Loss: 1.2513\n",
      "Epoch [6/10], Loss: 1.1586, Val Loss: 1.2337\n",
      "Epoch [7/10], Loss: 1.1203, Val Loss: 1.2200\n",
      "Epoch [8/10], Loss: 1.0903, Val Loss: 1.2086\n",
      "Epoch [9/10], Loss: 1.0563, Val Loss: 1.2096\n",
      "Epoch [10/10], Loss: 1.0356, Val Loss: 1.2099\n",
      "Test Accuracy: 49.67%\n",
      "Relaxed Test Accuracy: 95.41%\n"
     ]
    }
   ],
   "source": [
    "accuracies = []\n",
    "errors = []\n",
    "for i in range(len(batch_sizes)):\n",
    "    print(\"Training with batch size:\", batch_sizes[i])\n",
    "    model = GradePredictionModel(num_classes, vocab_sizes)\n",
    "    loss_fn = nn.CrossEntropyLoss()\n",
    "    optimizer = optim.Adam(model.parameters(), lr=0.001)\n",
    "    train_model(model, train_loaders[i], val_loaders[i], loss_fn, optimizer, 10)\n",
    "    acc, err = evaluate(model, test_loaders[i])\n",
    "    accuracies.append(acc)\n",
    "    errors.append(err)"
   ]
  },
  {
   "cell_type": "code",
   "execution_count": null,
   "metadata": {
    "colab": {
     "base_uri": "https://localhost:8080/",
     "height": 466
    },
    "executionInfo": {
     "elapsed": 443,
     "status": "ok",
     "timestamp": 1732857684466,
     "user": {
      "displayName": "Sunskar Dhanker",
      "userId": "08080050347218288056"
     },
     "user_tz": 480
    },
    "id": "wzxEYK4BifaK",
    "outputId": "c9b469c0-926d-46b9-c52b-ef69c4ba25cb"
   },
   "outputs": [
    {
     "data": {
      "text/plain": [
       "Text(0, 0.5, 'Accuracy %')"
      ]
     },
     "execution_count": 35,
     "metadata": {},
     "output_type": "execute_result"
    },
    {
     "data": {
      "image/png": "[encoded data removed]",
      "text/plain": [
       "<Figure size 640x480 with 1 Axes>"
      ]
     },
     "metadata": {},
     "output_type": "display_data"
    }
   ],
   "source": [
    "relaxed_accuracies = errors\n",
    "plt.plot(batch_sizes, accuracies, label=\"Strict Accuracy\")\n",
    "plt.plot(batch_sizes, relaxed_accuracies, label=\"Relaxed Accuracy\")\n",
    "# plt.ylim((47,52))\n",
    "plt.legend()\n",
    "plt.xlabel(\"Batch Size\")\n",
    "plt.ylabel(\"Accuracy %\")"
   ]
  },
  {
   "cell_type": "markdown",
   "metadata": {
    "id": "ypMAQyeRlxsQ"
   },
   "source": [
    "# Testing Different Optimizers\n",
    "In order to find the best optimizer to use, we tested out 3 of the most popular optimizers for our application: Adam, Stochastic Gradient Descent, and AdaGrad.\n",
    "\n",
    "From our analysis, we found far better results for the Adam optimizer than either of the others."
   ]
  },
  {
   "cell_type": "code",
   "execution_count": null,
   "metadata": {
    "colab": {
     "base_uri": "https://localhost:8080/"
    },
    "executionInfo": {
     "elapsed": 129797,
     "status": "ok",
     "timestamp": 1732857814261,
     "user": {
      "displayName": "Sunskar Dhanker",
      "userId": "08080050347218288056"
     },
     "user_tz": 480
    },
    "id": "IE9lh5J-l5MD",
    "outputId": "090918bf-ce11-401c-a2c6-d43f7f47db8d"
   },
   "outputs": [
    {
     "name": "stdout",
     "output_type": "stream",
     "text": [
      "Training with Adam Optimizer:\n",
      "Epoch [1/10], Loss: 1.4821, Val Loss: 1.3658\n",
      "Epoch [2/10], Loss: 1.3141, Val Loss: 1.3010\n",
      "Epoch [3/10], Loss: 1.2354, Val Loss: 1.2524\n",
      "Epoch [4/10], Loss: 1.1696, Val Loss: 1.2209\n",
      "Epoch [5/10], Loss: 1.1177, Val Loss: 1.2198\n",
      "Epoch [6/10], Loss: 1.0735, Val Loss: 1.2077\n",
      "Epoch [7/10], Loss: 1.0371, Val Loss: 1.2059\n",
      "Epoch [8/10], Loss: 1.0009, Val Loss: 1.2089\n",
      "Epoch [9/10], Loss: 0.9720, Val Loss: 1.2134\n",
      "Epoch [10/10], Loss: 0.9465, Val Loss: 1.2153\n",
      "Test Accuracy: 49.35%\n",
      "Relaxed Test Accuracy: 95.42%\n",
      "Training with SGD Optimizer:\n",
      "Epoch [1/10], Loss: 1.7796, Val Loss: 1.6281\n",
      "Epoch [2/10], Loss: 1.5885, Val Loss: 1.5702\n",
      "Epoch [3/10], Loss: 1.5433, Val Loss: 1.5325\n",
      "Epoch [4/10], Loss: 1.5093, Val Loss: 1.5028\n",
      "Epoch [5/10], Loss: 1.4838, Val Loss: 1.4785\n",
      "Epoch [6/10], Loss: 1.4625, Val Loss: 1.4706\n",
      "Epoch [7/10], Loss: 1.4441, Val Loss: 1.4433\n",
      "Epoch [8/10], Loss: 1.4292, Val Loss: 1.4272\n",
      "Epoch [9/10], Loss: 1.4121, Val Loss: 1.4127\n",
      "Epoch [10/10], Loss: 1.3972, Val Loss: 1.3992\n",
      "Test Accuracy: 41.46%\n",
      "Relaxed Test Accuracy: 94.28%\n",
      "Training with AdaGrad Optimizer:\n",
      "Epoch [1/10], Loss: 1.6804, Val Loss: 1.5926\n",
      "Epoch [2/10], Loss: 1.5643, Val Loss: 1.5591\n",
      "Epoch [3/10], Loss: 1.5373, Val Loss: 1.5408\n",
      "Epoch [4/10], Loss: 1.5220, Val Loss: 1.5275\n",
      "Epoch [5/10], Loss: 1.5096, Val Loss: 1.5173\n",
      "Epoch [6/10], Loss: 1.4998, Val Loss: 1.5090\n",
      "Epoch [7/10], Loss: 1.4928, Val Loss: 1.5020\n",
      "Epoch [8/10], Loss: 1.4862, Val Loss: 1.4962\n",
      "Epoch [9/10], Loss: 1.4793, Val Loss: 1.4909\n",
      "Epoch [10/10], Loss: 1.4735, Val Loss: 1.4856\n",
      "Test Accuracy: 38.51%\n",
      "Relaxed Test Accuracy: 93.58%\n"
     ]
    }
   ],
   "source": [
    "opt_accuracies = []\n",
    "opt_relaxed = []\n",
    "\n",
    "# Adam Optimizer\n",
    "print(\"Training with Adam Optimizer:\")\n",
    "model = GradePredictionModel(num_classes, vocab_sizes)\n",
    "loss_fn = nn.CrossEntropyLoss()\n",
    "optimizer = optim.Adam(model.parameters(), lr=0.001)\n",
    "train_model(model, train_loader, val_loader, loss_fn, optimizer, 10)\n",
    "acc, rel = evaluate(model, test_loader)\n",
    "opt_accuracies.append(acc)\n",
    "opt_relaxed.append(rel)\n",
    "\n",
    "# SGD Optimizer\n",
    "print(\"Training with SGD Optimizer:\")\n",
    "model = GradePredictionModel(num_classes, vocab_sizes)\n",
    "loss_fn = nn.CrossEntropyLoss()\n",
    "optimizer = optim.SGD(model.parameters(), lr=0.01)\n",
    "train_model(model, train_loader, val_loader, loss_fn, optimizer, 10)\n",
    "acc, rel = evaluate(model, test_loader)\n",
    "opt_accuracies.append(acc)\n",
    "opt_relaxed.append(rel)\n",
    "\n",
    "# AdaGrad Optimizer\n",
    "print(\"Training with AdaGrad Optimizer:\")\n",
    "model = GradePredictionModel(num_classes, vocab_sizes)\n",
    "loss_fn = nn.CrossEntropyLoss()\n",
    "optimizer = optim.Adagrad(model.parameters(), lr=0.001)\n",
    "train_model(model, train_loader, val_loader, loss_fn, optimizer, 10)\n",
    "acc, rel = evaluate(model, test_loader)\n",
    "opt_accuracies.append(acc)\n",
    "opt_relaxed.append(rel)"
   ]
  },
  {
   "cell_type": "code",
   "execution_count": null,
   "metadata": {
    "colab": {
     "base_uri": "https://localhost:8080/",
     "height": 466
    },
    "executionInfo": {
     "elapsed": 324,
     "status": "ok",
     "timestamp": 1732857814582,
     "user": {
      "displayName": "Sunskar Dhanker",
      "userId": "08080050347218288056"
     },
     "user_tz": 480
    },
    "id": "Biv0FtE9n3eg",
    "outputId": "6aaae109-f55e-4e45-bf7e-9a18a5aecdcd"
   },
   "outputs": [
    {
     "data": {
      "text/plain": [
       "Text(0, 0.5, 'Accuracy %')"
      ]
     },
     "execution_count": 37,
     "metadata": {},
     "output_type": "execute_result"
    },
    {
     "data": {
      "image/png": "[encoded data removed]",
      "text/plain": [
       "<Figure size 640x480 with 1 Axes>"
      ]
     },
     "metadata": {},
     "output_type": "display_data"
    }
   ],
   "source": [
    "optimizers = [\"Adam\", \"SGD\", \"AdaGrad\"]\n",
    "plt.bar(optimizers, opt_accuracies, width=0.4, label=\"Strict Accuracy\")\n",
    "plt.legend()\n",
    "plt.xlabel(\"Batch Size\")\n",
    "plt.ylabel(\"Accuracy %\")"
   ]
  },
  {
   "cell_type": "markdown",
   "metadata": {
    "id": "ju3LS5_yqNam"
   },
   "source": [
    "# Other Hyperparameters\n",
    "We have conducted a further analysis of 2 main hyperperameters: dropout rate and learning rate.\n",
    "\n",
    "For the dropout rate we tested 5 different values 0.0, 0.1, 0.3, 0.5, 0.8 and plotted the resulting model accuracies. We found that dropout rates between 0.1 and 0.5 performed slightly better than the rest.\n",
    "\n",
    "Next we tested 3 different learning rates: 0.1, 0.01, 0.001. Here we see that 0.1 resulted in far lower accuracy than the other 2. We concluded that 0.1 was too large of a rate, and 0.001 slightly outperformed 0.01."
   ]
  },
  {
   "cell_type": "code",
   "execution_count": null,
   "metadata": {
    "colab": {
     "base_uri": "https://localhost:8080/"
    },
    "executionInfo": {
     "elapsed": 291674,
     "status": "ok",
     "timestamp": 1732858106252,
     "user": {
      "displayName": "Sunskar Dhanker",
      "userId": "08080050347218288056"
     },
     "user_tz": 480
    },
    "id": "X4BfzW0UpTCh",
    "outputId": "7a40f2c9-9850-4db0-9150-385988908c0b"
   },
   "outputs": [
    {
     "name": "stdout",
     "output_type": "stream",
     "text": [
      "Training with dropout value: 0.0\n",
      "Epoch [1/10], Loss: 1.4500, Val Loss: 1.3462\n",
      "Epoch [2/10], Loss: 1.2659, Val Loss: 1.2705\n",
      "Epoch [3/10], Loss: 1.1636, Val Loss: 1.2382\n",
      "Epoch [4/10], Loss: 1.0795, Val Loss: 1.2265\n",
      "Epoch [5/10], Loss: 1.0081, Val Loss: 1.2228\n",
      "Epoch [6/10], Loss: 0.9457, Val Loss: 1.2414\n",
      "Epoch [7/10], Loss: 0.8854, Val Loss: 1.2658\n",
      "Epoch [8/10], Loss: 0.8343, Val Loss: 1.2958\n",
      "Epoch [9/10], Loss: 0.7850, Val Loss: 1.3386\n",
      "Epoch [10/10], Loss: 0.7374, Val Loss: 1.3804\n",
      "Test Accuracy: 48.72%\n",
      "Relaxed Test Accuracy: 95.29%\n",
      "Training with dropout value: 0.1\n",
      "Epoch [1/10], Loss: 1.4643, Val Loss: 1.3671\n",
      "Epoch [2/10], Loss: 1.2856, Val Loss: 1.2835\n",
      "Epoch [3/10], Loss: 1.1890, Val Loss: 1.2374\n",
      "Epoch [4/10], Loss: 1.1148, Val Loss: 1.2182\n",
      "Epoch [5/10], Loss: 1.0543, Val Loss: 1.2113\n",
      "Epoch [6/10], Loss: 1.0008, Val Loss: 1.2269\n",
      "Epoch [7/10], Loss: 0.9566, Val Loss: 1.2222\n",
      "Epoch [8/10], Loss: 0.9146, Val Loss: 1.2347\n",
      "Epoch [9/10], Loss: 0.8772, Val Loss: 1.2439\n",
      "Epoch [10/10], Loss: 0.8465, Val Loss: 1.2702\n",
      "Test Accuracy: 49.85%\n",
      "Relaxed Test Accuracy: 95.40%\n",
      "Training with dropout value: 0.3\n",
      "Epoch [1/10], Loss: 1.4802, Val Loss: 1.3572\n",
      "Epoch [2/10], Loss: 1.3140, Val Loss: 1.2876\n",
      "Epoch [3/10], Loss: 1.2328, Val Loss: 1.2459\n",
      "Epoch [4/10], Loss: 1.1690, Val Loss: 1.2246\n",
      "Epoch [5/10], Loss: 1.1143, Val Loss: 1.2134\n",
      "Epoch [6/10], Loss: 1.0733, Val Loss: 1.2052\n",
      "Epoch [7/10], Loss: 1.0327, Val Loss: 1.2038\n",
      "Epoch [8/10], Loss: 1.0001, Val Loss: 1.2138\n",
      "Epoch [9/10], Loss: 0.9706, Val Loss: 1.2064\n",
      "Epoch [10/10], Loss: 0.9408, Val Loss: 1.2180\n",
      "Test Accuracy: 50.15%\n",
      "Relaxed Test Accuracy: 95.44%\n",
      "Training with dropout value: 0.5\n",
      "Epoch [1/10], Loss: 1.5047, Val Loss: 1.3884\n",
      "Epoch [2/10], Loss: 1.3467, Val Loss: 1.3221\n",
      "Epoch [3/10], Loss: 1.2725, Val Loss: 1.2771\n",
      "Epoch [4/10], Loss: 1.2136, Val Loss: 1.2514\n",
      "Epoch [5/10], Loss: 1.1683, Val Loss: 1.2357\n",
      "Epoch [6/10], Loss: 1.1285, Val Loss: 1.2227\n",
      "Epoch [7/10], Loss: 1.0959, Val Loss: 1.2163\n",
      "Epoch [8/10], Loss: 1.0650, Val Loss: 1.2186\n",
      "Epoch [9/10], Loss: 1.0394, Val Loss: 1.2111\n",
      "Epoch [10/10], Loss: 1.0172, Val Loss: 1.2299\n",
      "Test Accuracy: 50.52%\n",
      "Relaxed Test Accuracy: 95.52%\n",
      "Training with dropout value: 0.8\n",
      "Epoch [1/10], Loss: 1.5855, Val Loss: 1.4440\n",
      "Epoch [2/10], Loss: 1.4440, Val Loss: 1.3820\n",
      "Epoch [3/10], Loss: 1.3877, Val Loss: 1.3424\n",
      "Epoch [4/10], Loss: 1.3363, Val Loss: 1.3097\n",
      "Epoch [5/10], Loss: 1.2897, Val Loss: 1.2868\n",
      "Epoch [6/10], Loss: 1.2501, Val Loss: 1.2755\n",
      "Epoch [7/10], Loss: 1.2154, Val Loss: 1.2700\n",
      "Epoch [8/10], Loss: 1.1851, Val Loss: 1.2589\n",
      "Epoch [9/10], Loss: 1.1609, Val Loss: 1.2413\n",
      "Epoch [10/10], Loss: 1.1363, Val Loss: 1.2334\n",
      "Test Accuracy: 47.96%\n",
      "Relaxed Test Accuracy: 95.28%\n"
     ]
    }
   ],
   "source": [
    "dropouts = [0.0, 0.1, 0.3, 0.5, 0.8]\n",
    "accuracies_drop = []\n",
    "relaxed_drop = []\n",
    "for i in range(len(dropouts)):\n",
    "    print(\"Training with dropout value:\", dropouts[i])\n",
    "    model = GradePredictionModel(num_classes, vocab_sizes, dropouts[i])\n",
    "    criterion = nn.CrossEntropyLoss()\n",
    "    optimizer = optim.Adam(model.parameters(), lr=0.001)\n",
    "    train_model(model, train_loader, val_loader, criterion, optimizer, 10)\n",
    "    acc, rel = evaluate(model, test_loader)\n",
    "    accuracies_drop.append(acc)\n",
    "    relaxed_drop.append(rel)"
   ]
  },
  {
   "cell_type": "code",
   "execution_count": null,
   "metadata": {
    "colab": {
     "base_uri": "https://localhost:8080/",
     "height": 466
    },
    "executionInfo": {
     "elapsed": 194,
     "status": "ok",
     "timestamp": 1732858106441,
     "user": {
      "displayName": "Sunskar Dhanker",
      "userId": "08080050347218288056"
     },
     "user_tz": 480
    },
    "id": "Lb7jZreMqmQA",
    "outputId": "5468a94b-5ee7-4edc-87d7-b2c2882d61f0"
   },
   "outputs": [
    {
     "data": {
      "text/plain": [
       "Text(0, 0.5, 'Accuracy %')"
      ]
     },
     "execution_count": 39,
     "metadata": {},
     "output_type": "execute_result"
    },
    {
     "data": {
      "image/png": "[encoded data removed]",
      "text/plain": [
       "<Figure size 640x480 with 1 Axes>"
      ]
     },
     "metadata": {},
     "output_type": "display_data"
    }
   ],
   "source": [
    "plt.plot(dropouts, accuracies_drop, label=\"Strict Accuracy\")\n",
    "plt.ylim((45,55))\n",
    "plt.legend()\n",
    "plt.xlabel(\"Dropout rate\")\n",
    "plt.ylabel(\"Accuracy %\")"
   ]
  },
  {
   "cell_type": "code",
   "execution_count": null,
   "metadata": {
    "colab": {
     "base_uri": "https://localhost:8080/",
     "height": 472
    },
    "executionInfo": {
     "elapsed": 322,
     "status": "ok",
     "timestamp": 1732858106758,
     "user": {
      "displayName": "Sunskar Dhanker",
      "userId": "08080050347218288056"
     },
     "user_tz": 480
    },
    "id": "g24B9lPesLX3",
    "outputId": "36731408-1a9a-421d-e1e7-c355a6ecb963"
   },
   "outputs": [
    {
     "data": {
      "text/plain": [
       "Text(0, 0.5, 'Accuracy %')"
      ]
     },
     "execution_count": 40,
     "metadata": {},
     "output_type": "execute_result"
    },
    {
     "data": {
      "image/png": "[encoded data removed]",
      "text/plain": [
       "<Figure size 640x480 with 1 Axes>"
      ]
     },
     "metadata": {},
     "output_type": "display_data"
    }
   ],
   "source": [
    "plt.plot(dropouts, relaxed_drop, label=\"Relaxed Accuracy\")\n",
    "plt.ylim((90, 100))\n",
    "plt.legend()\n",
    "plt.xlabel(\"Dropout rate\")\n",
    "plt.ylabel(\"Accuracy %\")"
   ]
  },
  {
   "cell_type": "code",
   "execution_count": null,
   "metadata": {
    "colab": {
     "base_uri": "https://localhost:8080/"
    },
    "executionInfo": {
     "elapsed": 206579,
     "status": "ok",
     "timestamp": 1732858313334,
     "user": {
      "displayName": "Sunskar Dhanker",
      "userId": "08080050347218288056"
     },
     "user_tz": 480
    },
    "id": "nlcmWD_VsUFk",
    "outputId": "5ef81059-97b4-40de-efc9-c06a4a8ab595"
   },
   "outputs": [
    {
     "name": "stdout",
     "output_type": "stream",
     "text": [
      "Training with learning rate: 0.1\n",
      "Epoch [1/10], Loss: 1.7423, Val Loss: 1.6624\n",
      "Epoch [2/10], Loss: 1.7677, Val Loss: 1.6605\n",
      "Epoch [3/10], Loss: 1.6498, Val Loss: 1.6598\n",
      "Epoch [4/10], Loss: 1.6496, Val Loss: 1.6709\n",
      "Epoch [5/10], Loss: 1.6504, Val Loss: 1.6668\n",
      "Epoch [6/10], Loss: 1.6505, Val Loss: 1.6709\n",
      "Epoch [7/10], Loss: 1.6500, Val Loss: 1.6617\n",
      "Epoch [8/10], Loss: 1.6515, Val Loss: 1.6625\n",
      "Epoch [9/10], Loss: 1.6494, Val Loss: 1.6639\n",
      "Epoch [10/10], Loss: 1.6501, Val Loss: 1.6620\n",
      "Test Accuracy: 30.05%\n",
      "Relaxed Test Accuracy: 91.40%\n",
      "Training with learning rate: 0.01\n",
      "Epoch [1/10], Loss: 1.4213, Val Loss: 1.3067\n",
      "Epoch [2/10], Loss: 1.2241, Val Loss: 1.2593\n",
      "Epoch [3/10], Loss: 1.1267, Val Loss: 1.2560\n",
      "Epoch [4/10], Loss: 1.0764, Val Loss: 1.2774\n",
      "Epoch [5/10], Loss: 1.0289, Val Loss: 1.2798\n",
      "Epoch [6/10], Loss: 1.0021, Val Loss: 1.3185\n",
      "Epoch [7/10], Loss: 0.9776, Val Loss: 1.3664\n",
      "Epoch [8/10], Loss: 0.9538, Val Loss: 1.3917\n",
      "Epoch [9/10], Loss: 0.9316, Val Loss: 1.4235\n",
      "Epoch [10/10], Loss: 0.9114, Val Loss: 1.4115\n",
      "Test Accuracy: 49.66%\n",
      "Relaxed Test Accuracy: 95.40%\n",
      "Training with learning rate: 0.001\n",
      "Epoch [1/10], Loss: 1.4811, Val Loss: 1.3637\n",
      "Epoch [2/10], Loss: 1.3164, Val Loss: 1.2912\n",
      "Epoch [3/10], Loss: 1.2335, Val Loss: 1.2492\n",
      "Epoch [4/10], Loss: 1.1690, Val Loss: 1.2192\n",
      "Epoch [5/10], Loss: 1.1168, Val Loss: 1.2186\n",
      "Epoch [6/10], Loss: 1.0703, Val Loss: 1.2036\n",
      "Epoch [7/10], Loss: 1.0328, Val Loss: 1.2033\n",
      "Epoch [8/10], Loss: 1.0005, Val Loss: 1.2097\n",
      "Epoch [9/10], Loss: 0.9694, Val Loss: 1.2150\n",
      "Epoch [10/10], Loss: 0.9424, Val Loss: 1.2243\n",
      "Test Accuracy: 49.96%\n",
      "Relaxed Test Accuracy: 95.48%\n"
     ]
    }
   ],
   "source": [
    "rates = [0.1, 0.01, 0.001]\n",
    "accuracies_rate = []\n",
    "relaxed_rate = []\n",
    "for i in range(len(rates)):\n",
    "    print(\"Training with learning rate:\", rates[i])\n",
    "    model = GradePredictionModel(num_classes, vocab_sizes)\n",
    "    criterion = nn.CrossEntropyLoss()\n",
    "    optimizer = optim.Adam(model.parameters(), lr=rates[i])\n",
    "    train_model(model, train_loader, val_loader, criterion, optimizer, 10)\n",
    "    acc, rel = evaluate(model, test_loader)\n",
    "    accuracies_rate.append(acc)\n",
    "    relaxed_rate.append(rel)"
   ]
  },
  {
   "cell_type": "code",
   "execution_count": null,
   "metadata": {
    "colab": {
     "base_uri": "https://localhost:8080/"
    },
    "executionInfo": {
     "elapsed": 56212,
     "status": "ok",
     "timestamp": 1732858885128,
     "user": {
      "displayName": "Sunskar Dhanker",
      "userId": "08080050347218288056"
     },
     "user_tz": 480
    },
    "id": "8pJQDa-Bs3Y6",
    "outputId": "851516f0-e6fb-4e26-c723-a5e5ca818327"
   },
   "outputs": [
    {
     "name": "stdout",
     "output_type": "stream",
     "text": [
      "Epoch [1/10], Loss: 1.4901, Val Loss: 1.3698\n",
      "Epoch [2/10], Loss: 1.3201, Val Loss: 1.2990\n",
      "Epoch [3/10], Loss: 1.2384, Val Loss: 1.2602\n",
      "Epoch [4/10], Loss: 1.1740, Val Loss: 1.2233\n",
      "Epoch [5/10], Loss: 1.1196, Val Loss: 1.2087\n",
      "Epoch [6/10], Loss: 1.0734, Val Loss: 1.2025\n",
      "Epoch [7/10], Loss: 1.0321, Val Loss: 1.2048\n",
      "Epoch [8/10], Loss: 0.9981, Val Loss: 1.2069\n",
      "Epoch [9/10], Loss: 0.9729, Val Loss: 1.2099\n",
      "Epoch [10/10], Loss: 0.9439, Val Loss: 1.2247\n"
     ]
    }
   ],
   "source": [
    "import os\n",
    "\n",
    "final_model = GradePredictionModel(num_classes,  vocab_sizes)\n",
    "criterion = nn.CrossEntropyLoss()\n",
    "optimizer = optim.Adam(final_model.parameters(), lr=0.001)\n",
    "train_model(final_model, train_loader, val_loader, criterion, optimizer, 10)\n"
   ]
  },
  {
   "cell_type": "code",
   "execution_count": 1,
   "metadata": {
    "colab": {
     "base_uri": "https://localhost:8080/"
    },
    "executionInfo": {
     "elapsed": 1117,
     "status": "ok",
     "timestamp": 1732860025116,
     "user": {
      "displayName": "Sunskar Dhanker",
      "userId": "08080050347218288056"
     },
     "user_tz": 480
    },
    "id": "PmPQbWA-Sppv",
    "outputId": "12ab2a0c-f133-4e45-fd75-6df40da22180"
   },
   "outputs": [
    {
     "ename": "NameError",
     "evalue": "name 'torch' is not defined",
     "output_type": "error",
     "traceback": [
      "\u001b[0;31m---------------------------------------------------------------------------\u001b[0m",
      "\u001b[0;31mNameError\u001b[0m                                 Traceback (most recent call last)",
      "Cell \u001b[0;32mIn[1], line 5\u001b[0m\n\u001b[1;32m      1\u001b[0m save_path \u001b[38;5;241m=\u001b[39m \u001b[38;5;124m'\u001b[39m\u001b[38;5;124m./grade_prediction_model.pth\u001b[39m\u001b[38;5;124m'\u001b[39m\n\u001b[1;32m      4\u001b[0m \u001b[38;5;66;03m# Save the entire model\u001b[39;00m\n\u001b[0;32m----> 5\u001b[0m torch\u001b[38;5;241m.\u001b[39msave(model, save_path)\n",
      "\u001b[0;31mNameError\u001b[0m: name 'torch' is not defined"
     ]
    }
   ],
   "source": [
    "\n",
    "save_path = './grade_prediction_model.pth'\n",
    "\n",
    "\n",
    "# Save the entire model\n",
    "torch.save(model, save_path)"
   ]
  },
  {
   "cell_type": "code",
   "execution_count": null,
   "metadata": {},
   "outputs": [],
   "source": []
  }
 ],
 "metadata": {
  "colab": {
   "provenance": []
  },
  "kernelspec": {
   "display_name": "Python 3 (ipykernel)",
   "language": "python",
   "name": "python3"
  },
  "language_info": {
   "codemirror_mode": {
    "name": "ipython",
    "version": 3
   },
   "file_extension": ".py",
   "mimetype": "text/x-python",
   "name": "python",
   "nbconvert_exporter": "python",
   "pygments_lexer": "ipython3",
   "version": "3.11.7"
  }
 },
 "nbformat": 4,
 "nbformat_minor": 1
}
