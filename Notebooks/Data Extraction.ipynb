{
 "cells": [
  {
   "cell_type": "markdown",
   "metadata": {
    "id": "7V1CDCkY1oAo"
   },
   "source": [
    "# Part 1: Data Extraction Notebook\n"
   ]
  },
  {
   "cell_type": "markdown",
   "metadata": {
    "id": "TX3dxYoL1hty"
   },
   "source": [
    "# Setup and Imports"
   ]
  },
  {
   "cell_type": "markdown",
   "metadata": {
    "id": "NsscLsrzmPh6"
   },
   "source": [
    "In order to get the correct file path, you'll need to add this folder to your drive at the file path indicated below"
   ]
  },
  {
   "cell_type": "code",
   "execution_count": 1,
   "metadata": {
    "id": "2w1YyRoDzjMY"
   },
   "outputs": [],
   "source": [
    "# Put all imports here\n",
    "import pandas as pd"
   ]
  },
  {
   "cell_type": "code",
   "execution_count": 2,
   "metadata": {
    "colab": {
     "base_uri": "https://localhost:8080/"
    },
    "executionInfo": {
     "elapsed": 19990,
     "status": "ok",
     "timestamp": 1729975879883,
     "user": {
      "displayName": "Sameer Sinha",
      "userId": "12623218309467002069"
     },
     "user_tz": 300
    },
    "id": "Atagwlmw0Cjs",
    "outputId": "23425a96-fba1-49c9-8648-eb3c57aef87b"
   },
   "outputs": [],
   "source": [
    "# Get dataset\n",
    "file_path = '../data/uiuc-gpa-dataset.csv'\n",
    "df = pd.read_csv(file_path)"
   ]
  },
  {
   "cell_type": "markdown",
   "metadata": {
    "id": "k8pCuF7L1K2l"
   },
   "source": [
    "# Create Debug and Working Datasets"
   ]
  },
  {
   "cell_type": "code",
   "execution_count": 3,
   "metadata": {
    "id": "YyfFYCk70mVP"
   },
   "outputs": [],
   "source": [
    "debug_df = df.sample(n=100)  # Smaller sample for debugging\n",
    "working_df = df"
   ]
  },
  {
   "cell_type": "code",
   "execution_count": 4,
   "metadata": {
    "colab": {
     "base_uri": "https://localhost:8080/"
    },
    "executionInfo": {
     "elapsed": 3,
     "status": "ok",
     "timestamp": 1729975879884,
     "user": {
      "displayName": "Sameer Sinha",
      "userId": "12623218309467002069"
     },
     "user_tz": 300
    },
    "id": "M0CD3eITmZrA",
    "outputId": "b5354b42-777f-463e-d661-1795df1d14c2"
   },
   "outputs": [
    {
     "name": "stdout",
     "output_type": "stream",
     "text": [
      "       Year    Term YearTerm Subject  Number                    Course Title  \\\n",
      "53144  2012    Fall  2012-fa    ASTR     121                The Solar System   \n",
      "31471  2017  Spring  2017-sp    HORT     100    Introduction to Horticulture   \n",
      "572    2023  Spring  2023-sp    CHLH     441  Health Behavior and Technology   \n",
      "60484  2011  Spring  2011-sp    PSYC     100                     Intro Psych   \n",
      "6904   2022  Spring  2022-sp      PS     201     US Racial & Ethnic Politics   \n",
      "\n",
      "      Sched Type  A+   A  A-  ...  B-  C+   C  C-  D+  D  D-  F  W  \\\n",
      "53144        LEC   1  10   6  ...  15  13  21   4   4  1   0  2  0   \n",
      "31471        NaN   7   5  11  ...   3   2   2   2   0  0   1  1  1   \n",
      "572          LCD   5  13   0  ...   0   0   0   0   0  0   0  1  0   \n",
      "60484        LCD   3   1   6  ...  13   2   5   2   0  0   0  2  0   \n",
      "6904         ONL   4  12   9  ...   3   3   2   7   0  1   1  6  0   \n",
      "\n",
      "          Primary Instructor  \n",
      "53144       Sutton, Edmund C  \n",
      "31471        Voigt, Thomas B  \n",
      "572           Mejia, Shannon  \n",
      "60484  Henricks, Genevieve M  \n",
      "6904            Khan, Aleena  \n",
      "\n",
      "[5 rows x 22 columns]\n",
      "   Year    Term YearTerm Subject  Number                  Course Title  \\\n",
      "0  2023  Spring  2023-sp     AAS     100  Intro Asian American Studies   \n",
      "1  2023  Spring  2023-sp     AAS     100  Intro Asian American Studies   \n",
      "2  2023  Spring  2023-sp     AAS     100  Intro Asian American Studies   \n",
      "3  2023  Spring  2023-sp     AAS     200          U.S. Race and Empire   \n",
      "4  2023  Spring  2023-sp     AAS     215  US Citizenship Comparatively   \n",
      "\n",
      "  Sched Type  A+   A  A-  ...  B-  C+  C  C-  D+  D  D-  F  W  \\\n",
      "0        DIS   0  11   5  ...   0   0  0   0   0  0   0  1  0   \n",
      "1        DIS   0  17   2  ...   1   0  0   0   0  0   0  0  1   \n",
      "2        DIS   0  13   2  ...   2   0  0   1   0  0   0  1  0   \n",
      "3        LCD   6  15   5  ...   0   0  0   0   0  1   0  1  0   \n",
      "4        LCD  16  12   2  ...   1   0  0   0   0  0   0  0  0   \n",
      "\n",
      "   Primary Instructor  \n",
      "0       Shin, Jeongsu  \n",
      "1       Shin, Jeongsu  \n",
      "2      Lee, Sabrina Y  \n",
      "3      Sawada, Emilia  \n",
      "4        Kwon, Soo Ah  \n",
      "\n",
      "[5 rows x 22 columns]\n"
     ]
    }
   ],
   "source": [
    "# Print the first few rows of debug_df\n",
    "print(debug_df.head())\n",
    "\n",
    "# Print the first few rows of working_df\n",
    "print(working_df.head())"
   ]
  },
  {
   "cell_type": "markdown",
   "metadata": {
    "id": "fb8qmS_c1Q_W"
   },
   "source": [
    "Pickle the datasets"
   ]
  },
  {
   "cell_type": "code",
   "execution_count": 5,
   "metadata": {
    "id": "bCmjQgng1SPC"
   },
   "outputs": [],
   "source": [
    "debug_df.to_pickle('debug_dataset.pkl')\n",
    "working_df.to_pickle('working_dataset.pkl')"
   ]
  },
  {
   "cell_type": "code",
   "execution_count": null,
   "metadata": {},
   "outputs": [],
   "source": []
  }
 ],
 "metadata": {
  "colab": {
   "provenance": []
  },
  "kernelspec": {
   "display_name": "Python 3 (ipykernel)",
   "language": "python",
   "name": "python3"
  },
  "language_info": {
   "codemirror_mode": {
    "name": "ipython",
    "version": 3
   },
   "file_extension": ".py",
   "mimetype": "text/x-python",
   "name": "python",
   "nbconvert_exporter": "python",
   "pygments_lexer": "ipython3",
   "version": "3.11.7"
  }
 },
 "nbformat": 4,
 "nbformat_minor": 1
}
