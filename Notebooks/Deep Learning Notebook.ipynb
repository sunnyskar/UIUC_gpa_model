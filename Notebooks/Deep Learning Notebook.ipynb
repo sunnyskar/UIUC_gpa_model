{
 "cells": [
  {
   "cell_type": "markdown",
   "metadata": {
    "id": "aIBtoCvK9mxh"
   },
   "source": [
    "# Preparing Data\n",
    "\n",
    "This is largely the same as our Baseline Model"
   ]
  },
  {
   "cell_type": "code",
   "execution_count": 1,
   "metadata": {
    "id": "9MZ75VOJ7zNp"
   },
   "outputs": [],
   "source": [
    "import torch\n",
    "import torch.nn as nn\n",
    "import torch.optim as optim\n",
    "from sklearn.preprocessing import OneHotEncoder\n",
    "from sklearn.model_selection import train_test_split\n",
    "import numpy as np\n",
    "import pandas as pd\n",
    "from sklearn.preprocessing import LabelEncoder\n",
    "from torch.utils.data import DataLoader, TensorDataset\n",
    "from sklearn.model_selection import KFold\n",
    "import matplotlib.pyplot as plt"
   ]
  },
  {
   "cell_type": "code",
   "execution_count": 2,
   "metadata": {
    "colab": {
     "base_uri": "https://localhost:8080/",
     "height": 253
    },
    "executionInfo": {
     "elapsed": 4852,
     "status": "ok",
     "timestamp": 1732856572927,
     "user": {
      "displayName": "Sunskar Dhanker",
      "userId": "08080050347218288056"
     },
     "user_tz": 480
    },
    "id": "wKyCypmp71Vv",
    "outputId": "a15ea01f-82c1-49a6-f527-593ec7c4b47e"
   },
   "outputs": [
    {
     "data": {
      "text/html": [
       "<div>\n",
       "<style scoped>\n",
       "    .dataframe tbody tr th:only-of-type {\n",
       "        vertical-align: middle;\n",
       "    }\n",
       "\n",
       "    .dataframe tbody tr th {\n",
       "        vertical-align: top;\n",
       "    }\n",
       "\n",
       "    .dataframe thead th {\n",
       "        text-align: right;\n",
       "    }\n",
       "</style>\n",
       "<table border=\"1\" class=\"dataframe\">\n",
       "  <thead>\n",
       "    <tr style=\"text-align: right;\">\n",
       "      <th></th>\n",
       "      <th>Year</th>\n",
       "      <th>Term</th>\n",
       "      <th>YearTerm</th>\n",
       "      <th>Subject</th>\n",
       "      <th>Number</th>\n",
       "      <th>Course Title</th>\n",
       "      <th>Sched Type</th>\n",
       "      <th>A+</th>\n",
       "      <th>A</th>\n",
       "      <th>A-</th>\n",
       "      <th>...</th>\n",
       "      <th>B-</th>\n",
       "      <th>C+</th>\n",
       "      <th>C</th>\n",
       "      <th>C-</th>\n",
       "      <th>D+</th>\n",
       "      <th>D</th>\n",
       "      <th>D-</th>\n",
       "      <th>F</th>\n",
       "      <th>W</th>\n",
       "      <th>Primary Instructor</th>\n",
       "    </tr>\n",
       "  </thead>\n",
       "  <tbody>\n",
       "    <tr>\n",
       "      <th>0</th>\n",
       "      <td>2023</td>\n",
       "      <td>Spring</td>\n",
       "      <td>2023-sp</td>\n",
       "      <td>AAS</td>\n",
       "      <td>100</td>\n",
       "      <td>Intro Asian American Studies</td>\n",
       "      <td>DIS</td>\n",
       "      <td>0</td>\n",
       "      <td>11</td>\n",
       "      <td>5</td>\n",
       "      <td>...</td>\n",
       "      <td>0</td>\n",
       "      <td>0</td>\n",
       "      <td>0</td>\n",
       "      <td>0</td>\n",
       "      <td>0</td>\n",
       "      <td>0</td>\n",
       "      <td>0</td>\n",
       "      <td>1</td>\n",
       "      <td>0</td>\n",
       "      <td>Shin, Jeongsu</td>\n",
       "    </tr>\n",
       "    <tr>\n",
       "      <th>1</th>\n",
       "      <td>2023</td>\n",
       "      <td>Spring</td>\n",
       "      <td>2023-sp</td>\n",
       "      <td>AAS</td>\n",
       "      <td>100</td>\n",
       "      <td>Intro Asian American Studies</td>\n",
       "      <td>DIS</td>\n",
       "      <td>0</td>\n",
       "      <td>17</td>\n",
       "      <td>2</td>\n",
       "      <td>...</td>\n",
       "      <td>1</td>\n",
       "      <td>0</td>\n",
       "      <td>0</td>\n",
       "      <td>0</td>\n",
       "      <td>0</td>\n",
       "      <td>0</td>\n",
       "      <td>0</td>\n",
       "      <td>0</td>\n",
       "      <td>1</td>\n",
       "      <td>Shin, Jeongsu</td>\n",
       "    </tr>\n",
       "    <tr>\n",
       "      <th>2</th>\n",
       "      <td>2023</td>\n",
       "      <td>Spring</td>\n",
       "      <td>2023-sp</td>\n",
       "      <td>AAS</td>\n",
       "      <td>100</td>\n",
       "      <td>Intro Asian American Studies</td>\n",
       "      <td>DIS</td>\n",
       "      <td>0</td>\n",
       "      <td>13</td>\n",
       "      <td>2</td>\n",
       "      <td>...</td>\n",
       "      <td>2</td>\n",
       "      <td>0</td>\n",
       "      <td>0</td>\n",
       "      <td>1</td>\n",
       "      <td>0</td>\n",
       "      <td>0</td>\n",
       "      <td>0</td>\n",
       "      <td>1</td>\n",
       "      <td>0</td>\n",
       "      <td>Lee, Sabrina Y</td>\n",
       "    </tr>\n",
       "    <tr>\n",
       "      <th>3</th>\n",
       "      <td>2023</td>\n",
       "      <td>Spring</td>\n",
       "      <td>2023-sp</td>\n",
       "      <td>AAS</td>\n",
       "      <td>200</td>\n",
       "      <td>U.S. Race and Empire</td>\n",
       "      <td>LCD</td>\n",
       "      <td>6</td>\n",
       "      <td>15</td>\n",
       "      <td>5</td>\n",
       "      <td>...</td>\n",
       "      <td>0</td>\n",
       "      <td>0</td>\n",
       "      <td>0</td>\n",
       "      <td>0</td>\n",
       "      <td>0</td>\n",
       "      <td>1</td>\n",
       "      <td>0</td>\n",
       "      <td>1</td>\n",
       "      <td>0</td>\n",
       "      <td>Sawada, Emilia</td>\n",
       "    </tr>\n",
       "    <tr>\n",
       "      <th>4</th>\n",
       "      <td>2023</td>\n",
       "      <td>Spring</td>\n",
       "      <td>2023-sp</td>\n",
       "      <td>AAS</td>\n",
       "      <td>215</td>\n",
       "      <td>US Citizenship Comparatively</td>\n",
       "      <td>LCD</td>\n",
       "      <td>16</td>\n",
       "      <td>12</td>\n",
       "      <td>2</td>\n",
       "      <td>...</td>\n",
       "      <td>1</td>\n",
       "      <td>0</td>\n",
       "      <td>0</td>\n",
       "      <td>0</td>\n",
       "      <td>0</td>\n",
       "      <td>0</td>\n",
       "      <td>0</td>\n",
       "      <td>0</td>\n",
       "      <td>0</td>\n",
       "      <td>Kwon, Soo Ah</td>\n",
       "    </tr>\n",
       "  </tbody>\n",
       "</table>\n",
       "<p>5 rows × 22 columns</p>\n",
       "</div>"
      ],
      "text/plain": [
       "   Year    Term YearTerm Subject  Number                  Course Title  \\\n",
       "0  2023  Spring  2023-sp     AAS     100  Intro Asian American Studies   \n",
       "1  2023  Spring  2023-sp     AAS     100  Intro Asian American Studies   \n",
       "2  2023  Spring  2023-sp     AAS     100  Intro Asian American Studies   \n",
       "3  2023  Spring  2023-sp     AAS     200          U.S. Race and Empire   \n",
       "4  2023  Spring  2023-sp     AAS     215  US Citizenship Comparatively   \n",
       "\n",
       "  Sched Type  A+   A  A-  ...  B-  C+  C  C-  D+  D  D-  F  W  \\\n",
       "0        DIS   0  11   5  ...   0   0  0   0   0  0   0  1  0   \n",
       "1        DIS   0  17   2  ...   1   0  0   0   0  0   0  0  1   \n",
       "2        DIS   0  13   2  ...   2   0  0   1   0  0   0  1  0   \n",
       "3        LCD   6  15   5  ...   0   0  0   0   0  1   0  1  0   \n",
       "4        LCD  16  12   2  ...   1   0  0   0   0  0   0  0  0   \n",
       "\n",
       "   Primary Instructor  \n",
       "0       Shin, Jeongsu  \n",
       "1       Shin, Jeongsu  \n",
       "2      Lee, Sabrina Y  \n",
       "3      Sawada, Emilia  \n",
       "4        Kwon, Soo Ah  \n",
       "\n",
       "[5 rows x 22 columns]"
      ]
     },
     "execution_count": 2,
     "metadata": {},
     "output_type": "execute_result"
    }
   ],
   "source": [
    "fname=\"../data/uiuc-gpa-dataset.csv\"\n",
    "df=pd.read_csv(fname)\n",
    "df.head()"
   ]
  },
  {
   "cell_type": "code",
   "execution_count": 3,
   "metadata": {
    "colab": {
     "base_uri": "https://localhost:8080/"
    },
    "executionInfo": {
     "elapsed": 269,
     "status": "ok",
     "timestamp": 1732856573194,
     "user": {
      "displayName": "Sunskar Dhanker",
      "userId": "08080050347218288056"
     },
     "user_tz": 480
    },
    "id": "UabFGluEJBXn",
    "outputId": "1666bc25-c273-4b6c-c985-c5d56a923f15"
   },
   "outputs": [
    {
     "data": {
      "text/plain": [
       "array(['AAS', '100', '2023-sp', 'DIS', 'Shin, Jeongsu'], dtype='<U25')"
      ]
     },
     "execution_count": 3,
     "metadata": {},
     "output_type": "execute_result"
    }
   ],
   "source": [
    "parameter_columns = ['Subject', 'Number', 'YearTerm', 'Sched Type', 'Primary Instructor']\n",
    "temp = df[parameter_columns].values\n",
    "X = []\n",
    "for i in range(len(temp)):\n",
    "    X.append([str(temp[i,0]), str(temp[i,1]), str(temp[i,2]), str(temp[i,3]), str(temp[i,4])])\n",
    "X = np.array(X)\n",
    "X[0]"
   ]
  },
  {
   "cell_type": "code",
   "execution_count": 4,
   "metadata": {
    "colab": {
     "base_uri": "https://localhost:8080/"
    },
    "executionInfo": {
     "elapsed": 933,
     "status": "ok",
     "timestamp": 1732856574125,
     "user": {
      "displayName": "Sunskar Dhanker",
      "userId": "08080050347218288056"
     },
     "user_tz": 480
    },
    "id": "85ELCFWLDCy0",
    "outputId": "18c6686c-5dd6-4b37-a4cd-98ccde034e0c"
   },
   "outputs": [
    {
     "name": "stdout",
     "output_type": "stream",
     "text": [
      "[100.          92.30769231  84.61538462  76.92307692  69.23076923\n",
      "  61.53846154  53.84615385  46.15384615  38.46153846  30.76923077\n",
      "  23.07692308  15.38461538   7.69230769   0.        ]\n",
      "2\n"
     ]
    }
   ],
   "source": [
    "grade_columns = ['A+', 'A', 'A-', 'B+', 'B', 'B-', 'C+', 'C', 'C-', 'D+', 'D', 'D-', 'F', 'W']\n",
    "grade_percent = np.linspace(100,0, len(grade_columns))\n",
    "print(grade_percent)\n",
    "\n",
    "temp = df[grade_columns].values\n",
    "Z = []\n",
    "for i in range(len(temp)):\n",
    "    score = np.sum(temp[i]*grade_percent)/np.sum(temp[i])\n",
    "    idx = (np.abs(grade_percent - score)).argmin()\n",
    "    Z.append(idx)\n",
    "Z = np.array(Z)\n",
    "print(Z[0])\n",
    "# Prepare data\n",
    "Z_tensor = torch.tensor(Z, dtype=torch.long)"
   ]
  },
  {
   "cell_type": "markdown",
   "metadata": {
    "id": "HPfxkvqqJ29I"
   },
   "source": [
    "Pre-processing the input data before splitting"
   ]
  },
  {
   "cell_type": "code",
   "execution_count": 5,
   "metadata": {
    "id": "skAFwBLbJ6AQ"
   },
   "outputs": [],
   "source": [
    "# Extract each feature column\n",
    "subject_column = X[:, 0]  #  'AAS'\n",
    "number_column = X[:, 1]   # '100'\n",
    "term_column = X[:, 2]     # '2023-sp'\n",
    "sched_type_column = X[:, 3]  # 'DIS'\n",
    "instructor_column = X[:, 4]  # 'Shin, Jeongsu'\n",
    "\n",
    "# Initialize label encoders for each column\n",
    "subject_encoder = LabelEncoder()\n",
    "number_encoder = LabelEncoder()\n",
    "term_encoder = LabelEncoder()\n",
    "sched_type_encoder = LabelEncoder()\n",
    "instructor_encoder = LabelEncoder()\n",
    "\n",
    "# Fit and transform each column separately\n",
    "subject_encoded = subject_encoder.fit_transform(subject_column)\n",
    "number_encoded = number_encoder.fit_transform(number_column)\n",
    "term_encoded = term_encoder.fit_transform(term_column)\n",
    "sched_type_encoded = sched_type_encoder.fit_transform(sched_type_column)\n",
    "instructor_encoded = instructor_encoder.fit_transform(instructor_column)\n",
    "\n",
    "# Combine all encoded columns into a single feature array\n",
    "X_encoded = np.column_stack((subject_encoded, number_encoded, term_encoded, sched_type_encoded, instructor_encoded))\n",
    "\n",
    "# Convert to PyTorch tensor\n",
    "X_tensor = torch.tensor(X_encoded, dtype=torch.long)"
   ]
  },
  {
   "cell_type": "code",
   "execution_count": 6,
   "metadata": {
    "id": "TXUPn_nZDNEs"
   },
   "outputs": [],
   "source": [
    "X_train, X_temp, Z_train, Z_temp = train_test_split(X_tensor, Z_tensor, test_size=0.3, random_state=42)\n",
    "X_val, X_test, Z_val, Z_test = train_test_split(X_temp, Z_temp, test_size=0.5, random_state=42)\n",
    "\n",
    "batch_size = 64\n",
    "train_loader = DataLoader(TensorDataset(X_train, Z_train), batch_size=batch_size, shuffle=True)\n",
    "val_loader = DataLoader(TensorDataset(X_val, Z_val), batch_size=batch_size)\n",
    "test_loader = DataLoader(TensorDataset(X_test, Z_test), batch_size=batch_size)"
   ]
  },
  {
   "cell_type": "markdown",
   "metadata": {
    "id": "cxWkMTIN9q94"
   },
   "source": [
    "# Defining Model\n",
    "\n",
    "We chose to have an embeddings layer for each feature because they're currently one-hot encoded, and an embedding layer maps each category to a low-dimensional vector. We follow this up with 3 fully connected layers with relu activations, with one dropout layer interspersed between the first and second linear layers to prevent overfitting."
   ]
  },
  {
   "cell_type": "code",
   "execution_count": 7,
   "metadata": {
    "id": "6jrPC1O89BAA"
   },
   "outputs": [],
   "source": [
    "class GradePredictionModel(nn.Module):\n",
    "    def __init__(self, num_classes, vocab_sizes, dropval=0.3, embedding_dim=50, hidden_dim=128):\n",
    "        super(GradePredictionModel, self).__init__()\n",
    "\n",
    "        # Create an embedding for each categorical feature\n",
    "        self.embeddings = nn.ModuleList(\n",
    "            [nn.Embedding(vocab_size, embedding_dim) for vocab_size in vocab_sizes]\n",
    "        )\n",
    "\n",
    "        # Adjust the input size for the fully connected layers\n",
    "        self.fc1 = nn.Linear(embedding_dim * len(vocab_sizes), hidden_dim)\n",
    "        self.fc2 = nn.Linear(hidden_dim, hidden_dim // 2)\n",
    "        self.fc3 = nn.Linear(hidden_dim // 2, num_classes)\n",
    "\n",
    "        self.relu = nn.ReLU()\n",
    "        self.dropout = nn.Dropout(dropval)\n",
    "\n",
    "    def forward(self, x):\n",
    "        # Pass each feature through its respective embedding layer\n",
    "        embedded = [embedding(x[:, i]) for i, embedding in enumerate(self.embeddings)]\n",
    "        x = torch.cat(embedded, dim=1)  # Concatenate all embeddings\n",
    "\n",
    "        x = self.relu(self.fc1(x))\n",
    "        x = self.dropout(x)\n",
    "        x = self.relu(self.fc2(x))\n",
    "        x = self.fc3(x)\n",
    "\n",
    "        return x\n"
   ]
  },
  {
   "cell_type": "code",
   "execution_count": 8,
   "metadata": {
    "id": "0VQMYDS1LXI_"
   },
   "outputs": [],
   "source": [
    "num_classes = len(grade_percent)\n",
    "vocab_sizes = [\n",
    "    len(subject_encoder.classes_),\n",
    "    len(number_encoder.classes_),\n",
    "    len(term_encoder.classes_),\n",
    "    len(sched_type_encoder.classes_),\n",
    "    len(instructor_encoder.classes_)\n",
    "]\n",
    "model = GradePredictionModel(num_classes, vocab_sizes)\n",
    "\n",
    "loss_fn = nn.CrossEntropyLoss()\n",
    "optimizer = optim.Adam(model.parameters(), lr=0.001)"
   ]
  },
  {
   "cell_type": "markdown",
   "metadata": {
    "id": "af0VGxwxDVXp"
   },
   "source": [
    "# Training Loop"
   ]
  },
  {
   "cell_type": "code",
   "execution_count": 9,
   "metadata": {
    "colab": {
     "base_uri": "https://localhost:8080/"
    },
    "executionInfo": {
     "elapsed": 591285,
     "status": "ok",
     "timestamp": 1732857165698,
     "user": {
      "displayName": "Sunskar Dhanker",
      "userId": "08080050347218288056"
     },
     "user_tz": 480
    },
    "id": "CkbSQVeSDXEJ",
    "outputId": "ab27c814-8738-42da-dad1-eefdd26e9650"
   },
   "outputs": [
    {
     "name": "stdout",
     "output_type": "stream",
     "text": [
      "Epoch [1/100], Loss: 1.4906, Val Loss: 1.3657\n",
      "Epoch [2/100], Loss: 1.3194, Val Loss: 1.2915\n",
      "Epoch [3/100], Loss: 1.2333, Val Loss: 1.2501\n",
      "Epoch [4/100], Loss: 1.1677, Val Loss: 1.2246\n",
      "Epoch [5/100], Loss: 1.1160, Val Loss: 1.2063\n",
      "Epoch [6/100], Loss: 1.0723, Val Loss: 1.1992\n",
      "Epoch [7/100], Loss: 1.0335, Val Loss: 1.1904\n",
      "Epoch [8/100], Loss: 0.9993, Val Loss: 1.2000\n",
      "Epoch [9/100], Loss: 0.9700, Val Loss: 1.2111\n",
      "Epoch [10/100], Loss: 0.9487, Val Loss: 1.2149\n",
      "Epoch [11/100], Loss: 0.9193, Val Loss: 1.2379\n",
      "Epoch [12/100], Loss: 0.9003, Val Loss: 1.2225\n",
      "Epoch [13/100], Loss: 0.8789, Val Loss: 1.2448\n",
      "Epoch [14/100], Loss: 0.8614, Val Loss: 1.2666\n",
      "Epoch [15/100], Loss: 0.8444, Val Loss: 1.2791\n",
      "Epoch [16/100], Loss: 0.8280, Val Loss: 1.3069\n",
      "Epoch [17/100], Loss: 0.8104, Val Loss: 1.3299\n",
      "Epoch [18/100], Loss: 0.7983, Val Loss: 1.3381\n",
      "Epoch [19/100], Loss: 0.7845, Val Loss: 1.3515\n",
      "Epoch [20/100], Loss: 0.7672, Val Loss: 1.3781\n",
      "Epoch [21/100], Loss: 0.7580, Val Loss: 1.3971\n",
      "Epoch [22/100], Loss: 0.7432, Val Loss: 1.4228\n",
      "Epoch [23/100], Loss: 0.7339, Val Loss: 1.4323\n",
      "Epoch [24/100], Loss: 0.7212, Val Loss: 1.4445\n",
      "Epoch [25/100], Loss: 0.7126, Val Loss: 1.4814\n",
      "Epoch [26/100], Loss: 0.7032, Val Loss: 1.5026\n",
      "Epoch [27/100], Loss: 0.6865, Val Loss: 1.5206\n",
      "Epoch [28/100], Loss: 0.6832, Val Loss: 1.5382\n",
      "Epoch [29/100], Loss: 0.6742, Val Loss: 1.5675\n",
      "Epoch [30/100], Loss: 0.6619, Val Loss: 1.5734\n",
      "Epoch [31/100], Loss: 0.6531, Val Loss: 1.6056\n",
      "Epoch [32/100], Loss: 0.6460, Val Loss: 1.6427\n",
      "Epoch [33/100], Loss: 0.6390, Val Loss: 1.6552\n",
      "Epoch [34/100], Loss: 0.6278, Val Loss: 1.6870\n",
      "Epoch [35/100], Loss: 0.6224, Val Loss: 1.7376\n",
      "Epoch [36/100], Loss: 0.6164, Val Loss: 1.7507\n",
      "Epoch [37/100], Loss: 0.6076, Val Loss: 1.7931\n",
      "Epoch [38/100], Loss: 0.6014, Val Loss: 1.7957\n",
      "Epoch [39/100], Loss: 0.5972, Val Loss: 1.8090\n",
      "Epoch [40/100], Loss: 0.5880, Val Loss: 1.8484\n",
      "Epoch [41/100], Loss: 0.5831, Val Loss: 1.8888\n",
      "Epoch [42/100], Loss: 0.5797, Val Loss: 1.8702\n",
      "Epoch [43/100], Loss: 0.5756, Val Loss: 1.8773\n",
      "Epoch [44/100], Loss: 0.5681, Val Loss: 1.9141\n",
      "Epoch [45/100], Loss: 0.5595, Val Loss: 1.9744\n",
      "Epoch [46/100], Loss: 0.5621, Val Loss: 1.9519\n",
      "Epoch [47/100], Loss: 0.5519, Val Loss: 2.0380\n",
      "Epoch [48/100], Loss: 0.5487, Val Loss: 1.9954\n",
      "Epoch [49/100], Loss: 0.5446, Val Loss: 2.0739\n",
      "Epoch [50/100], Loss: 0.5382, Val Loss: 2.0811\n",
      "Epoch [51/100], Loss: 0.5343, Val Loss: 2.1032\n",
      "Epoch [52/100], Loss: 0.5311, Val Loss: 2.1359\n",
      "Epoch [53/100], Loss: 0.5251, Val Loss: 2.1639\n",
      "Epoch [54/100], Loss: 0.5231, Val Loss: 2.1752\n",
      "Epoch [55/100], Loss: 0.5183, Val Loss: 2.1774\n",
      "Epoch [56/100], Loss: 0.5130, Val Loss: 2.2655\n",
      "Epoch [57/100], Loss: 0.5079, Val Loss: 2.2612\n",
      "Epoch [58/100], Loss: 0.5090, Val Loss: 2.2806\n",
      "Epoch [59/100], Loss: 0.5058, Val Loss: 2.3097\n",
      "Epoch [60/100], Loss: 0.4953, Val Loss: 2.2918\n",
      "Epoch [61/100], Loss: 0.4965, Val Loss: 2.3610\n",
      "Epoch [62/100], Loss: 0.4951, Val Loss: 2.3714\n",
      "Epoch [63/100], Loss: 0.4925, Val Loss: 2.3977\n",
      "Epoch [64/100], Loss: 0.4836, Val Loss: 2.4412\n",
      "Epoch [65/100], Loss: 0.4853, Val Loss: 2.4119\n",
      "Epoch [66/100], Loss: 0.4812, Val Loss: 2.4178\n",
      "Epoch [67/100], Loss: 0.4774, Val Loss: 2.5300\n",
      "Epoch [68/100], Loss: 0.4771, Val Loss: 2.5006\n",
      "Epoch [69/100], Loss: 0.4742, Val Loss: 2.5295\n",
      "Epoch [70/100], Loss: 0.4691, Val Loss: 2.5104\n",
      "Epoch [71/100], Loss: 0.4627, Val Loss: 2.6101\n",
      "Epoch [72/100], Loss: 0.4671, Val Loss: 2.5735\n",
      "Epoch [73/100], Loss: 0.4628, Val Loss: 2.6330\n",
      "Epoch [74/100], Loss: 0.4594, Val Loss: 2.6234\n",
      "Epoch [75/100], Loss: 0.4586, Val Loss: 2.6455\n",
      "Epoch [76/100], Loss: 0.4548, Val Loss: 2.6745\n",
      "Epoch [77/100], Loss: 0.4532, Val Loss: 2.7692\n",
      "Epoch [78/100], Loss: 0.4488, Val Loss: 2.7280\n",
      "Epoch [79/100], Loss: 0.4476, Val Loss: 2.7536\n",
      "Epoch [80/100], Loss: 0.4436, Val Loss: 2.7310\n",
      "Epoch [81/100], Loss: 0.4419, Val Loss: 2.7685\n",
      "Epoch [82/100], Loss: 0.4411, Val Loss: 2.7991\n",
      "Epoch [83/100], Loss: 0.4365, Val Loss: 2.8059\n",
      "Epoch [84/100], Loss: 0.4384, Val Loss: 2.8393\n",
      "Epoch [85/100], Loss: 0.4352, Val Loss: 2.8546\n",
      "Epoch [86/100], Loss: 0.4342, Val Loss: 2.8774\n",
      "Epoch [87/100], Loss: 0.4371, Val Loss: 2.9248\n",
      "Epoch [88/100], Loss: 0.4344, Val Loss: 2.8572\n",
      "Epoch [89/100], Loss: 0.4267, Val Loss: 2.9066\n",
      "Epoch [90/100], Loss: 0.4259, Val Loss: 2.9096\n",
      "Epoch [91/100], Loss: 0.4255, Val Loss: 2.9704\n",
      "Epoch [92/100], Loss: 0.4224, Val Loss: 2.9739\n",
      "Epoch [93/100], Loss: 0.4215, Val Loss: 3.0253\n",
      "Epoch [94/100], Loss: 0.4179, Val Loss: 3.0377\n",
      "Epoch [95/100], Loss: 0.4209, Val Loss: 3.0495\n",
      "Epoch [96/100], Loss: 0.4172, Val Loss: 3.0111\n",
      "Epoch [97/100], Loss: 0.4170, Val Loss: 3.0343\n",
      "Epoch [98/100], Loss: 0.4089, Val Loss: 3.0457\n",
      "Epoch [99/100], Loss: 0.4135, Val Loss: 3.0371\n",
      "Epoch [100/100], Loss: 0.4119, Val Loss: 3.0726\n"
     ]
    }
   ],
   "source": [
    "# Training Loop\n",
    "def train_model(model, train_loader, val_loader, loss_fn, optimizer, num_epochs=100):\n",
    "    for epoch in range(num_epochs):\n",
    "        model.train()\n",
    "        train_loss = 0\n",
    "        for X_batch, Z_batch in train_loader:\n",
    "          if Z_batch.ndim > 1:\n",
    "            Z_batch = Z_batch.argmax(dim=1)\n",
    "          optimizer.zero_grad()\n",
    "          outputs = model(X_batch)\n",
    "          loss = loss_fn(outputs, Z_batch)\n",
    "          loss.backward()\n",
    "          optimizer.step()\n",
    "          train_loss += loss.item()\n",
    "\n",
    "        # Validation\n",
    "        model.eval()\n",
    "        val_loss = 0\n",
    "        with torch.no_grad():\n",
    "          for X_batch, Z_batch in val_loader:\n",
    "            outputs = model(X_batch)\n",
    "            loss = loss_fn(outputs, Z_batch)\n",
    "            val_loss += loss.item()\n",
    "\n",
    "        print(f\"Epoch [{epoch + 1}/{num_epochs}], Loss: {train_loss/len(train_loader):.4f}, Val Loss: {val_loss/len(val_loader):.4f}\")\n",
    "\n",
    "\n",
    "train_model(model, train_loader, val_loader, loss_fn, optimizer)"
   ]
  },
  {
   "cell_type": "markdown",
   "metadata": {
    "id": "vFGIzBrmDij6"
   },
   "source": [
    "# Evaluation\n",
    "\n",
    "For evaluation, we came up with a metric for \"Relaxed accuracy.\" This was because if the ground truth was an A+, but the model predicted an A, it would be treated as \"wrong\", even though a prediction of A is still pretty good. This metric uses the grade difference to score predictions based on how close they are to the true label. The closer the prediction, the higher the score.\n",
    "\n",
    "The math behind this metric is we first calculate the difference (so an A+ is much \"closer\" to an A, with a distance of 1, than it is to an F, with a distance of 12). We then divide this by the \"max distance,\" or the maximum one-hot encoding of the labels (there are 14 labels, labelled 0 to 13). The maximum possible difference is 13. So the difference divided by the maximum difference shows a \"percent\" error. So if the label was A+, and we predicted A, we got an accuracy of 12/13. Whereas if we predicted W, we got an accuracy of 0. Thus, this relaxed accuracy shows us a much clearer picture.\n",
    "\n",
    "Thus, while we only predict around 50% of the labels exactly, we have around 96% accuracy, meaning most of our predictions were very close. This number is similar to if we exactly predicted 50% of the labels, were only plus/minus (A to A+, B to B-, etc.) off on 40%, and were two grades off (A+ to A-, A to B+, A- to B, etc.) on the remaining 10%."
   ]
  },
  {
   "cell_type": "code",
   "execution_count": 10,
   "metadata": {
    "colab": {
     "base_uri": "https://localhost:8080/"
    },
    "executionInfo": {
     "elapsed": 191,
     "status": "ok",
     "timestamp": 1732857165886,
     "user": {
      "displayName": "Sunskar Dhanker",
      "userId": "08080050347218288056"
     },
     "user_tz": 480
    },
    "id": "ZpYQd8rnDbnY",
    "outputId": "bafcd44a-4704-4c83-a672-3271d500916e"
   },
   "outputs": [
    {
     "name": "stdout",
     "output_type": "stream",
     "text": [
      "Test Accuracy: 51.11%\n",
      "Relaxed Test Accuracy: 95.49%\n"
     ]
    },
    {
     "data": {
      "text/plain": [
       "(51.11475726281247, 95.48676863288271)"
      ]
     },
     "execution_count": 10,
     "metadata": {},
     "output_type": "execute_result"
    }
   ],
   "source": [
    "def evaluate(model, test_loader):\n",
    "    model.eval()\n",
    "    correct = 0\n",
    "    total = 0\n",
    "    relaxed_score = 0\n",
    "\n",
    "    with torch.no_grad():\n",
    "        for X_batch, Z_batch in test_loader:\n",
    "            outputs = model(X_batch)\n",
    "            _, predicted = torch.max(outputs, 1)\n",
    "\n",
    "            total += Z_batch.size(0)\n",
    "            correct += (predicted == Z_batch).sum().item()\n",
    "\n",
    "            grade_diff = torch.abs(predicted - Z_batch)\n",
    "            max_distance = len(grade_columns) - 1\n",
    "            relaxed_score += (1 - (grade_diff / max_distance)).sum().item()\n",
    "\n",
    "    relaxed_accuracy = 100 * relaxed_score / total\n",
    "    accuracy = 100 * correct / total\n",
    "    print(f\"Test Accuracy: {accuracy:.2f}%\")\n",
    "    print(f\"Relaxed Test Accuracy: {relaxed_accuracy:.2f}%\")\n",
    "    return accuracy, relaxed_accuracy\n",
    "\n",
    "evaluate(model, test_loader)"
   ]
  },
  {
   "cell_type": "markdown",
   "metadata": {
    "id": "XudnwdZig73G"
   },
   "source": [
    "# Mini Batch Analysis\n",
    "We have tried out 5 different batch sizes (16, 32, 64, 128, 256) for our mini-batch learning. We ran the training for these different batch sizes for a fewer number of epochs just enough so we could understand which one was providing better results. We've plotted our findings below.\n",
    "\n",
    "Our conlusion from this analysis is that although each of the mini-batch sizes produced slight variations in accuracies, the variation was insignificant. Thus the mini-batch size had little impact on our final model."
   ]
  },
  {
   "cell_type": "code",
   "execution_count": 11,
   "metadata": {
    "id": "wYjhpmtlb0hu"
   },
   "outputs": [],
   "source": [
    "batch_sizes = [16, 32, 64, 128, 256]\n",
    "train_loaders = []\n",
    "val_loaders = []\n",
    "test_loaders = []\n",
    "for batch_size in batch_sizes:\n",
    "    train_loaders.append(DataLoader(TensorDataset(X_train, Z_train), batch_size=batch_size, shuffle=True))\n",
    "    val_loaders.append(DataLoader(TensorDataset(X_val, Z_val), batch_size=batch_size))\n",
    "    test_loaders.append(DataLoader(TensorDataset(X_test, Z_test), batch_size=batch_size))"
   ]
  },
  {
   "cell_type": "code",
   "execution_count": 12,
   "metadata": {
    "colab": {
     "base_uri": "https://localhost:8080/"
    },
    "executionInfo": {
     "elapsed": 518143,
     "status": "ok",
     "timestamp": 1732857684027,
     "user": {
      "displayName": "Sunskar Dhanker",
      "userId": "08080050347218288056"
     },
     "user_tz": 480
    },
    "id": "c9yj9Tbts4qq",
    "outputId": "992450de-9b96-47e9-b706-465a66079945"
   },
   "outputs": [
    {
     "name": "stdout",
     "output_type": "stream",
     "text": [
      "Training with batch size: 16\n",
      "Epoch [1/10], Loss: 1.4429, Val Loss: 1.3394\n",
      "Epoch [2/10], Loss: 1.2805, Val Loss: 1.2600\n",
      "Epoch [3/10], Loss: 1.1914, Val Loss: 1.2289\n",
      "Epoch [4/10], Loss: 1.1229, Val Loss: 1.2062\n",
      "Epoch [5/10], Loss: 1.0687, Val Loss: 1.1991\n",
      "Epoch [6/10], Loss: 1.0269, Val Loss: 1.2069\n",
      "Epoch [7/10], Loss: 0.9930, Val Loss: 1.1977\n",
      "Epoch [8/10], Loss: 0.9576, Val Loss: 1.2135\n",
      "Epoch [9/10], Loss: 0.9290, Val Loss: 1.2140\n",
      "Epoch [10/10], Loss: 0.9068, Val Loss: 1.2270\n",
      "Test Accuracy: 50.45%\n",
      "Relaxed Test Accuracy: 95.51%\n",
      "Training with batch size: 32\n",
      "Epoch [1/10], Loss: 1.4526, Val Loss: 1.3439\n",
      "Epoch [2/10], Loss: 1.2936, Val Loss: 1.2773\n",
      "Epoch [3/10], Loss: 1.2096, Val Loss: 1.2427\n",
      "Epoch [4/10], Loss: 1.1441, Val Loss: 1.2200\n",
      "Epoch [5/10], Loss: 1.0922, Val Loss: 1.2063\n",
      "Epoch [6/10], Loss: 1.0475, Val Loss: 1.1997\n",
      "Epoch [7/10], Loss: 1.0115, Val Loss: 1.2026\n",
      "Epoch [8/10], Loss: 0.9783, Val Loss: 1.2077\n",
      "Epoch [9/10], Loss: 0.9470, Val Loss: 1.2130\n",
      "Epoch [10/10], Loss: 0.9207, Val Loss: 1.2324\n",
      "Test Accuracy: 49.83%\n",
      "Relaxed Test Accuracy: 95.45%\n",
      "Training with batch size: 64\n",
      "Epoch [1/10], Loss: 1.4852, Val Loss: 1.3690\n",
      "Epoch [2/10], Loss: 1.3182, Val Loss: 1.3014\n",
      "Epoch [3/10], Loss: 1.2383, Val Loss: 1.2510\n",
      "Epoch [4/10], Loss: 1.1707, Val Loss: 1.2271\n",
      "Epoch [5/10], Loss: 1.1164, Val Loss: 1.2166\n",
      "Epoch [6/10], Loss: 1.0735, Val Loss: 1.2096\n",
      "Epoch [7/10], Loss: 1.0371, Val Loss: 1.2093\n",
      "Epoch [8/10], Loss: 1.0010, Val Loss: 1.2144\n",
      "Epoch [9/10], Loss: 0.9735, Val Loss: 1.2186\n",
      "Epoch [10/10], Loss: 0.9460, Val Loss: 1.2241\n",
      "Test Accuracy: 50.39%\n",
      "Relaxed Test Accuracy: 95.51%\n",
      "Training with batch size: 128\n",
      "Epoch [1/10], Loss: 1.5256, Val Loss: 1.3916\n",
      "Epoch [2/10], Loss: 1.3403, Val Loss: 1.3205\n",
      "Epoch [3/10], Loss: 1.2600, Val Loss: 1.2731\n",
      "Epoch [4/10], Loss: 1.1993, Val Loss: 1.2444\n",
      "Epoch [5/10], Loss: 1.1477, Val Loss: 1.2274\n",
      "Epoch [6/10], Loss: 1.1059, Val Loss: 1.2164\n",
      "Epoch [7/10], Loss: 1.0679, Val Loss: 1.2050\n",
      "Epoch [8/10], Loss: 1.0331, Val Loss: 1.2028\n",
      "Epoch [9/10], Loss: 1.0029, Val Loss: 1.2104\n",
      "Epoch [10/10], Loss: 0.9802, Val Loss: 1.2083\n",
      "Test Accuracy: 50.37%\n",
      "Relaxed Test Accuracy: 95.51%\n",
      "Training with batch size: 256\n",
      "Epoch [1/10], Loss: 1.5930, Val Loss: 1.4353\n",
      "Epoch [2/10], Loss: 1.3814, Val Loss: 1.3535\n",
      "Epoch [3/10], Loss: 1.3065, Val Loss: 1.3023\n",
      "Epoch [4/10], Loss: 1.2471, Val Loss: 1.2726\n",
      "Epoch [5/10], Loss: 1.1994, Val Loss: 1.2480\n",
      "Epoch [6/10], Loss: 1.1561, Val Loss: 1.2261\n",
      "Epoch [7/10], Loss: 1.1154, Val Loss: 1.2174\n",
      "Epoch [8/10], Loss: 1.0859, Val Loss: 1.2099\n",
      "Epoch [9/10], Loss: 1.0557, Val Loss: 1.2115\n",
      "Epoch [10/10], Loss: 1.0252, Val Loss: 1.2014\n",
      "Test Accuracy: 49.15%\n",
      "Relaxed Test Accuracy: 95.40%\n"
     ]
    }
   ],
   "source": [
    "accuracies = []\n",
    "errors = []\n",
    "for i in range(len(batch_sizes)):\n",
    "    print(\"Training with batch size:\", batch_sizes[i])\n",
    "    model = GradePredictionModel(num_classes, vocab_sizes)\n",
    "    loss_fn = nn.CrossEntropyLoss()\n",
    "    optimizer = optim.Adam(model.parameters(), lr=0.001)\n",
    "    train_model(model, train_loaders[i], val_loaders[i], loss_fn, optimizer, 10)\n",
    "    acc, err = evaluate(model, test_loaders[i])\n",
    "    accuracies.append(acc)\n",
    "    errors.append(err)"
   ]
  },
  {
   "cell_type": "code",
   "execution_count": 13,
   "metadata": {
    "colab": {
     "base_uri": "https://localhost:8080/",
     "height": 466
    },
    "executionInfo": {
     "elapsed": 443,
     "status": "ok",
     "timestamp": 1732857684466,
     "user": {
      "displayName": "Sunskar Dhanker",
      "userId": "08080050347218288056"
     },
     "user_tz": 480
    },
    "id": "wzxEYK4BifaK",
    "outputId": "c9b469c0-926d-46b9-c52b-ef69c4ba25cb"
   },
   "outputs": [
    {
     "data": {
      "text/plain": [
       "Text(0, 0.5, 'Accuracy %')"
      ]
     },
     "execution_count": 13,
     "metadata": {},
     "output_type": "execute_result"
    },
    {
     "data": {
      "image/png": "[encoded data removed]",
      "text/plain": [
       "<Figure size 640x480 with 1 Axes>"
      ]
     },
     "metadata": {},
     "output_type": "display_data"
    }
   ],
   "source": [
    "relaxed_accuracies = errors\n",
    "plt.plot(batch_sizes, accuracies, label=\"Strict Accuracy\")\n",
    "plt.plot(batch_sizes, relaxed_accuracies, label=\"Relaxed Accuracy\")\n",
    "# plt.ylim((47,52))\n",
    "plt.legend()\n",
    "plt.xlabel(\"Batch Size\")\n",
    "plt.ylabel(\"Accuracy %\")"
   ]
  },
  {
   "cell_type": "markdown",
   "metadata": {
    "id": "ypMAQyeRlxsQ"
   },
   "source": [
    "# Testing Different Optimizers\n",
    "In order to find the best optimizer to use, we tested out 3 of the most popular optimizers for our application: Adam, Stochastic Gradient Descent, and AdaGrad.\n",
    "\n",
    "From our analysis, we found far better results for the Adam optimizer than either of the others."
   ]
  },
  {
   "cell_type": "code",
   "execution_count": 14,
   "metadata": {
    "colab": {
     "base_uri": "https://localhost:8080/"
    },
    "executionInfo": {
     "elapsed": 129797,
     "status": "ok",
     "timestamp": 1732857814261,
     "user": {
      "displayName": "Sunskar Dhanker",
      "userId": "08080050347218288056"
     },
     "user_tz": 480
    },
    "id": "IE9lh5J-l5MD",
    "outputId": "090918bf-ce11-401c-a2c6-d43f7f47db8d"
   },
   "outputs": [
    {
     "name": "stdout",
     "output_type": "stream",
     "text": [
      "Training with Adam Optimizer:\n",
      "Epoch [1/10], Loss: 1.4823, Val Loss: 1.3728\n",
      "Epoch [2/10], Loss: 1.3178, Val Loss: 1.3070\n",
      "Epoch [3/10], Loss: 1.2372, Val Loss: 1.2601\n",
      "Epoch [4/10], Loss: 1.1715, Val Loss: 1.2454\n",
      "Epoch [5/10], Loss: 1.1166, Val Loss: 1.2206\n",
      "Epoch [6/10], Loss: 1.0735, Val Loss: 1.2210\n",
      "Epoch [7/10], Loss: 1.0328, Val Loss: 1.2267\n",
      "Epoch [8/10], Loss: 0.9978, Val Loss: 1.2214\n",
      "Epoch [9/10], Loss: 0.9722, Val Loss: 1.2286\n",
      "Epoch [10/10], Loss: 0.9442, Val Loss: 1.2358\n",
      "Test Accuracy: 49.25%\n",
      "Relaxed Test Accuracy: 95.39%\n",
      "Training with SGD Optimizer:\n",
      "Epoch [1/10], Loss: 1.7928, Val Loss: 1.6283\n",
      "Epoch [2/10], Loss: 1.5865, Val Loss: 1.5658\n",
      "Epoch [3/10], Loss: 1.5371, Val Loss: 1.5257\n",
      "Epoch [4/10], Loss: 1.5072, Val Loss: 1.4977\n",
      "Epoch [5/10], Loss: 1.4819, Val Loss: 1.4779\n",
      "Epoch [6/10], Loss: 1.4649, Val Loss: 1.4621\n",
      "Epoch [7/10], Loss: 1.4470, Val Loss: 1.4451\n",
      "Epoch [8/10], Loss: 1.4308, Val Loss: 1.4284\n",
      "Epoch [9/10], Loss: 1.4139, Val Loss: 1.4202\n",
      "Epoch [10/10], Loss: 1.4013, Val Loss: 1.4021\n",
      "Test Accuracy: 41.26%\n",
      "Relaxed Test Accuracy: 94.14%\n",
      "Training with AdaGrad Optimizer:\n",
      "Epoch [1/10], Loss: 1.7011, Val Loss: 1.6069\n",
      "Epoch [2/10], Loss: 1.5740, Val Loss: 1.5674\n",
      "Epoch [3/10], Loss: 1.5451, Val Loss: 1.5460\n",
      "Epoch [4/10], Loss: 1.5260, Val Loss: 1.5294\n",
      "Epoch [5/10], Loss: 1.5111, Val Loss: 1.5168\n",
      "Epoch [6/10], Loss: 1.4994, Val Loss: 1.5070\n",
      "Epoch [7/10], Loss: 1.4906, Val Loss: 1.4981\n",
      "Epoch [8/10], Loss: 1.4828, Val Loss: 1.4912\n",
      "Epoch [9/10], Loss: 1.4741, Val Loss: 1.4849\n",
      "Epoch [10/10], Loss: 1.4696, Val Loss: 1.4793\n",
      "Test Accuracy: 38.23%\n",
      "Relaxed Test Accuracy: 93.62%\n"
     ]
    }
   ],
   "source": [
    "opt_accuracies = []\n",
    "opt_relaxed = []\n",
    "\n",
    "# Adam Optimizer\n",
    "print(\"Training with Adam Optimizer:\")\n",
    "model = GradePredictionModel(num_classes, vocab_sizes)\n",
    "loss_fn = nn.CrossEntropyLoss()\n",
    "optimizer = optim.Adam(model.parameters(), lr=0.001)\n",
    "train_model(model, train_loader, val_loader, loss_fn, optimizer, 10)\n",
    "acc, rel = evaluate(model, test_loader)\n",
    "opt_accuracies.append(acc)\n",
    "opt_relaxed.append(rel)\n",
    "\n",
    "# SGD Optimizer\n",
    "print(\"Training with SGD Optimizer:\")\n",
    "model = GradePredictionModel(num_classes, vocab_sizes)\n",
    "loss_fn = nn.CrossEntropyLoss()\n",
    "optimizer = optim.SGD(model.parameters(), lr=0.01)\n",
    "train_model(model, train_loader, val_loader, loss_fn, optimizer, 10)\n",
    "acc, rel = evaluate(model, test_loader)\n",
    "opt_accuracies.append(acc)\n",
    "opt_relaxed.append(rel)\n",
    "\n",
    "# AdaGrad Optimizer\n",
    "print(\"Training with AdaGrad Optimizer:\")\n",
    "model = GradePredictionModel(num_classes, vocab_sizes)\n",
    "loss_fn = nn.CrossEntropyLoss()\n",
    "optimizer = optim.Adagrad(model.parameters(), lr=0.001)\n",
    "train_model(model, train_loader, val_loader, loss_fn, optimizer, 10)\n",
    "acc, rel = evaluate(model, test_loader)\n",
    "opt_accuracies.append(acc)\n",
    "opt_relaxed.append(rel)"
   ]
  },
  {
   "cell_type": "code",
   "execution_count": 15,
   "metadata": {
    "colab": {
     "base_uri": "https://localhost:8080/",
     "height": 466
    },
    "executionInfo": {
     "elapsed": 324,
     "status": "ok",
     "timestamp": 1732857814582,
     "user": {
      "displayName": "Sunskar Dhanker",
      "userId": "08080050347218288056"
     },
     "user_tz": 480
    },
    "id": "Biv0FtE9n3eg",
    "outputId": "6aaae109-f55e-4e45-bf7e-9a18a5aecdcd"
   },
   "outputs": [
    {
     "data": {
      "text/plain": [
       "Text(0, 0.5, 'Accuracy %')"
      ]
     },
     "execution_count": 15,
     "metadata": {},
     "output_type": "execute_result"
    },
    {
     "data": {
      "image/png": "[encoded data removed]",
      "text/plain": [
       "<Figure size 640x480 with 1 Axes>"
      ]
     },
     "metadata": {},
     "output_type": "display_data"
    }
   ],
   "source": [
    "optimizers = [\"Adam\", \"SGD\", \"AdaGrad\"]\n",
    "plt.bar(optimizers, opt_accuracies, width=0.4, label=\"Strict Accuracy\")\n",
    "plt.legend()\n",
    "plt.xlabel(\"Batch Size\")\n",
    "plt.ylabel(\"Accuracy %\")"
   ]
  },
  {
   "cell_type": "markdown",
   "metadata": {
    "id": "ju3LS5_yqNam"
   },
   "source": [
    "# Other Hyperparameters\n",
    "We have conducted a further analysis of 2 main hyperperameters: dropout rate and learning rate.\n",
    "\n",
    "For the dropout rate we tested 5 different values 0.0, 0.1, 0.3, 0.5, 0.8 and plotted the resulting model accuracies. We found that dropout rates between 0.1 and 0.5 performed slightly better than the rest.\n",
    "\n",
    "Next we tested 3 different learning rates: 0.1, 0.01, 0.001. Here we see that 0.1 resulted in far lower accuracy than the other 2. We concluded that 0.1 was too large of a rate, and 0.001 slightly outperformed 0.01."
   ]
  },
  {
   "cell_type": "code",
   "execution_count": 16,
   "metadata": {
    "colab": {
     "base_uri": "https://localhost:8080/"
    },
    "executionInfo": {
     "elapsed": 291674,
     "status": "ok",
     "timestamp": 1732858106252,
     "user": {
      "displayName": "Sunskar Dhanker",
      "userId": "08080050347218288056"
     },
     "user_tz": 480
    },
    "id": "X4BfzW0UpTCh",
    "outputId": "7a40f2c9-9850-4db0-9150-385988908c0b"
   },
   "outputs": [
    {
     "name": "stdout",
     "output_type": "stream",
     "text": [
      "Training with dropout value: 0.0\n",
      "Epoch [1/10], Loss: 1.4534, Val Loss: 1.3461\n",
      "Epoch [2/10], Loss: 1.2641, Val Loss: 1.2769\n",
      "Epoch [3/10], Loss: 1.1624, Val Loss: 1.2593\n",
      "Epoch [4/10], Loss: 1.0789, Val Loss: 1.2262\n",
      "Epoch [5/10], Loss: 1.0071, Val Loss: 1.2265\n",
      "Epoch [6/10], Loss: 0.9432, Val Loss: 1.2396\n",
      "Epoch [7/10], Loss: 0.8885, Val Loss: 1.2722\n",
      "Epoch [8/10], Loss: 0.8369, Val Loss: 1.3080\n",
      "Epoch [9/10], Loss: 0.7890, Val Loss: 1.3320\n",
      "Epoch [10/10], Loss: 0.7428, Val Loss: 1.3999\n",
      "Test Accuracy: 48.26%\n",
      "Relaxed Test Accuracy: 95.19%\n",
      "Training with dropout value: 0.1\n",
      "Epoch [1/10], Loss: 1.4743, Val Loss: 1.3610\n",
      "Epoch [2/10], Loss: 1.2781, Val Loss: 1.2786\n",
      "Epoch [3/10], Loss: 1.1800, Val Loss: 1.2402\n",
      "Epoch [4/10], Loss: 1.1108, Val Loss: 1.2161\n",
      "Epoch [5/10], Loss: 1.0520, Val Loss: 1.2102\n",
      "Epoch [6/10], Loss: 1.0011, Val Loss: 1.2093\n",
      "Epoch [7/10], Loss: 0.9597, Val Loss: 1.2162\n",
      "Epoch [8/10], Loss: 0.9178, Val Loss: 1.2247\n",
      "Epoch [9/10], Loss: 0.8834, Val Loss: 1.2535\n",
      "Epoch [10/10], Loss: 0.8504, Val Loss: 1.2672\n",
      "Test Accuracy: 49.86%\n",
      "Relaxed Test Accuracy: 95.41%\n",
      "Training with dropout value: 0.3\n",
      "Epoch [1/10], Loss: 1.4878, Val Loss: 1.3652\n",
      "Epoch [2/10], Loss: 1.3148, Val Loss: 1.2965\n",
      "Epoch [3/10], Loss: 1.2323, Val Loss: 1.2506\n",
      "Epoch [4/10], Loss: 1.1702, Val Loss: 1.2262\n",
      "Epoch [5/10], Loss: 1.1199, Val Loss: 1.2093\n",
      "Epoch [6/10], Loss: 1.0741, Val Loss: 1.2086\n",
      "Epoch [7/10], Loss: 1.0383, Val Loss: 1.1958\n",
      "Epoch [8/10], Loss: 1.0044, Val Loss: 1.2072\n",
      "Epoch [9/10], Loss: 0.9746, Val Loss: 1.2184\n",
      "Epoch [10/10], Loss: 0.9524, Val Loss: 1.2033\n",
      "Test Accuracy: 50.26%\n",
      "Relaxed Test Accuracy: 95.51%\n",
      "Training with dropout value: 0.5\n",
      "Epoch [1/10], Loss: 1.5228, Val Loss: 1.3994\n",
      "Epoch [2/10], Loss: 1.3563, Val Loss: 1.3167\n",
      "Epoch [3/10], Loss: 1.2797, Val Loss: 1.2754\n",
      "Epoch [4/10], Loss: 1.2179, Val Loss: 1.2498\n",
      "Epoch [5/10], Loss: 1.1664, Val Loss: 1.2348\n",
      "Epoch [6/10], Loss: 1.1274, Val Loss: 1.2184\n",
      "Epoch [7/10], Loss: 1.0941, Val Loss: 1.2238\n",
      "Epoch [8/10], Loss: 1.0639, Val Loss: 1.2112\n",
      "Epoch [9/10], Loss: 1.0396, Val Loss: 1.2068\n",
      "Epoch [10/10], Loss: 1.0162, Val Loss: 1.2134\n",
      "Test Accuracy: 49.70%\n",
      "Relaxed Test Accuracy: 95.44%\n",
      "Training with dropout value: 0.8\n",
      "Epoch [1/10], Loss: 1.5863, Val Loss: 1.4459\n",
      "Epoch [2/10], Loss: 1.4461, Val Loss: 1.3746\n",
      "Epoch [3/10], Loss: 1.3815, Val Loss: 1.3334\n",
      "Epoch [4/10], Loss: 1.3266, Val Loss: 1.2993\n",
      "Epoch [5/10], Loss: 1.2768, Val Loss: 1.2778\n",
      "Epoch [6/10], Loss: 1.2388, Val Loss: 1.2584\n",
      "Epoch [7/10], Loss: 1.2026, Val Loss: 1.2420\n",
      "Epoch [8/10], Loss: 1.1741, Val Loss: 1.2406\n",
      "Epoch [9/10], Loss: 1.1467, Val Loss: 1.2381\n",
      "Epoch [10/10], Loss: 1.1280, Val Loss: 1.2380\n",
      "Test Accuracy: 47.32%\n",
      "Relaxed Test Accuracy: 95.23%\n"
     ]
    }
   ],
   "source": [
    "dropouts = [0.0, 0.1, 0.3, 0.5, 0.8]\n",
    "accuracies_drop = []\n",
    "relaxed_drop = []\n",
    "for i in range(len(dropouts)):\n",
    "    print(\"Training with dropout value:\", dropouts[i])\n",
    "    model = GradePredictionModel(num_classes, vocab_sizes, dropouts[i])\n",
    "    criterion = nn.CrossEntropyLoss()\n",
    "    optimizer = optim.Adam(model.parameters(), lr=0.001)\n",
    "    train_model(model, train_loader, val_loader, criterion, optimizer, 10)\n",
    "    acc, rel = evaluate(model, test_loader)\n",
    "    accuracies_drop.append(acc)\n",
    "    relaxed_drop.append(rel)"
   ]
  },
  {
   "cell_type": "code",
   "execution_count": 17,
   "metadata": {
    "colab": {
     "base_uri": "https://localhost:8080/",
     "height": 466
    },
    "executionInfo": {
     "elapsed": 194,
     "status": "ok",
     "timestamp": 1732858106441,
     "user": {
      "displayName": "Sunskar Dhanker",
      "userId": "08080050347218288056"
     },
     "user_tz": 480
    },
    "id": "Lb7jZreMqmQA",
    "outputId": "5468a94b-5ee7-4edc-87d7-b2c2882d61f0"
   },
   "outputs": [
    {
     "data": {
      "text/plain": [
       "Text(0, 0.5, 'Accuracy %')"
      ]
     },
     "execution_count": 17,
     "metadata": {},
     "output_type": "execute_result"
    },
    {
     "data": {
      "image/png": "[encoded data removed]",
      "text/plain": [
       "<Figure size 640x480 with 1 Axes>"
      ]
     },
     "metadata": {},
     "output_type": "display_data"
    }
   ],
   "source": [
    "plt.plot(dropouts, accuracies_drop, label=\"Strict Accuracy\")\n",
    "plt.ylim((45,55))\n",
    "plt.legend()\n",
    "plt.xlabel(\"Dropout rate\")\n",
    "plt.ylabel(\"Accuracy %\")"
   ]
  },
  {
   "cell_type": "code",
   "execution_count": 18,
   "metadata": {
    "colab": {
     "base_uri": "https://localhost:8080/",
     "height": 472
    },
    "executionInfo": {
     "elapsed": 322,
     "status": "ok",
     "timestamp": 1732858106758,
     "user": {
      "displayName": "Sunskar Dhanker",
      "userId": "08080050347218288056"
     },
     "user_tz": 480
    },
    "id": "g24B9lPesLX3",
    "outputId": "36731408-1a9a-421d-e1e7-c355a6ecb963"
   },
   "outputs": [
    {
     "data": {
      "text/plain": [
       "Text(0, 0.5, 'Accuracy %')"
      ]
     },
     "execution_count": 18,
     "metadata": {},
     "output_type": "execute_result"
    },
    {
     "data": {
      "image/png": "[encoded data removed]",
      "text/plain": [
       "<Figure size 640x480 with 1 Axes>"
      ]
     },
     "metadata": {},
     "output_type": "display_data"
    }
   ],
   "source": [
    "plt.plot(dropouts, relaxed_drop, label=\"Relaxed Accuracy\")\n",
    "plt.ylim((90, 100))\n",
    "plt.legend()\n",
    "plt.xlabel(\"Dropout rate\")\n",
    "plt.ylabel(\"Accuracy %\")"
   ]
  },
  {
   "cell_type": "code",
   "execution_count": 19,
   "metadata": {
    "colab": {
     "base_uri": "https://localhost:8080/"
    },
    "executionInfo": {
     "elapsed": 206579,
     "status": "ok",
     "timestamp": 1732858313334,
     "user": {
      "displayName": "Sunskar Dhanker",
      "userId": "08080050347218288056"
     },
     "user_tz": 480
    },
    "id": "nlcmWD_VsUFk",
    "outputId": "5ef81059-97b4-40de-efc9-c06a4a8ab595"
   },
   "outputs": [
    {
     "name": "stdout",
     "output_type": "stream",
     "text": [
      "Training with learning rate: 0.1\n",
      "Epoch [1/10], Loss: 1.7685, Val Loss: 1.6612\n",
      "Epoch [2/10], Loss: 1.6607, Val Loss: 1.6702\n",
      "Epoch [3/10], Loss: 1.6509, Val Loss: 1.6581\n",
      "Epoch [4/10], Loss: 1.6491, Val Loss: 1.6702\n",
      "Epoch [5/10], Loss: 1.6515, Val Loss: 1.6626\n",
      "Epoch [6/10], Loss: 1.6502, Val Loss: 1.6651\n",
      "Epoch [7/10], Loss: 1.6498, Val Loss: 1.6603\n",
      "Epoch [8/10], Loss: 1.6494, Val Loss: 1.6603\n",
      "Epoch [9/10], Loss: 1.6502, Val Loss: 1.6609\n",
      "Epoch [10/10], Loss: 1.6501, Val Loss: 1.6665\n",
      "Test Accuracy: 30.05%\n",
      "Relaxed Test Accuracy: 91.40%\n",
      "Training with learning rate: 0.01\n",
      "Epoch [1/10], Loss: 1.4109, Val Loss: 1.2808\n",
      "Epoch [2/10], Loss: 1.2117, Val Loss: 1.2386\n",
      "Epoch [3/10], Loss: 1.1145, Val Loss: 1.2460\n",
      "Epoch [4/10], Loss: 1.0613, Val Loss: 1.2732\n",
      "Epoch [5/10], Loss: 1.0194, Val Loss: 1.2803\n",
      "Epoch [6/10], Loss: 0.9933, Val Loss: 1.3589\n",
      "Epoch [7/10], Loss: 0.9677, Val Loss: 1.4107\n",
      "Epoch [8/10], Loss: 0.9428, Val Loss: 1.3994\n",
      "Epoch [9/10], Loss: 0.9236, Val Loss: 1.4626\n",
      "Epoch [10/10], Loss: 0.9056, Val Loss: 1.5653\n",
      "Test Accuracy: 49.42%\n",
      "Relaxed Test Accuracy: 95.30%\n",
      "Training with learning rate: 0.001\n",
      "Epoch [1/10], Loss: 1.4839, Val Loss: 1.3647\n",
      "Epoch [2/10], Loss: 1.3152, Val Loss: 1.2896\n",
      "Epoch [3/10], Loss: 1.2344, Val Loss: 1.2580\n",
      "Epoch [4/10], Loss: 1.1677, Val Loss: 1.2226\n",
      "Epoch [5/10], Loss: 1.1143, Val Loss: 1.2072\n",
      "Epoch [6/10], Loss: 1.0725, Val Loss: 1.2102\n",
      "Epoch [7/10], Loss: 1.0339, Val Loss: 1.2020\n",
      "Epoch [8/10], Loss: 1.0015, Val Loss: 1.1956\n",
      "Epoch [9/10], Loss: 0.9690, Val Loss: 1.2100\n",
      "Epoch [10/10], Loss: 0.9445, Val Loss: 1.2320\n",
      "Test Accuracy: 50.15%\n",
      "Relaxed Test Accuracy: 95.48%\n"
     ]
    }
   ],
   "source": [
    "rates = [0.1, 0.01, 0.001]\n",
    "accuracies_rate = []\n",
    "relaxed_rate = []\n",
    "for i in range(len(rates)):\n",
    "    print(\"Training with learning rate:\", rates[i])\n",
    "    model = GradePredictionModel(num_classes, vocab_sizes)\n",
    "    criterion = nn.CrossEntropyLoss()\n",
    "    optimizer = optim.Adam(model.parameters(), lr=rates[i])\n",
    "    train_model(model, train_loader, val_loader, criterion, optimizer, 10)\n",
    "    acc, rel = evaluate(model, test_loader)\n",
    "    accuracies_rate.append(acc)\n",
    "    relaxed_rate.append(rel)"
   ]
  },
  {
   "cell_type": "code",
   "execution_count": 20,
   "metadata": {
    "colab": {
     "base_uri": "https://localhost:8080/"
    },
    "executionInfo": {
     "elapsed": 56212,
     "status": "ok",
     "timestamp": 1732858885128,
     "user": {
      "displayName": "Sunskar Dhanker",
      "userId": "08080050347218288056"
     },
     "user_tz": 480
    },
    "id": "8pJQDa-Bs3Y6",
    "outputId": "851516f0-e6fb-4e26-c723-a5e5ca818327"
   },
   "outputs": [
    {
     "name": "stdout",
     "output_type": "stream",
     "text": [
      "Epoch [1/10], Loss: 1.4846, Val Loss: 1.3692\n",
      "Epoch [2/10], Loss: 1.3154, Val Loss: 1.2998\n",
      "Epoch [3/10], Loss: 1.2316, Val Loss: 1.2557\n",
      "Epoch [4/10], Loss: 1.1711, Val Loss: 1.2273\n",
      "Epoch [5/10], Loss: 1.1143, Val Loss: 1.2160\n",
      "Epoch [6/10], Loss: 1.0731, Val Loss: 1.2110\n",
      "Epoch [7/10], Loss: 1.0345, Val Loss: 1.2097\n",
      "Epoch [8/10], Loss: 1.0023, Val Loss: 1.2146\n",
      "Epoch [9/10], Loss: 0.9737, Val Loss: 1.2281\n",
      "Epoch [10/10], Loss: 0.9452, Val Loss: 1.2204\n"
     ]
    }
   ],
   "source": [
    "import os\n",
    "\n",
    "final_model = GradePredictionModel(num_classes,  vocab_sizes)\n",
    "criterion = nn.CrossEntropyLoss()\n",
    "optimizer = optim.Adam(final_model.parameters(), lr=0.001)\n",
    "train_model(final_model, train_loader, val_loader, criterion, optimizer, 10)\n"
   ]
  },
  {
   "cell_type": "code",
   "execution_count": 21,
   "metadata": {
    "colab": {
     "base_uri": "https://localhost:8080/"
    },
    "executionInfo": {
     "elapsed": 1117,
     "status": "ok",
     "timestamp": 1732860025116,
     "user": {
      "displayName": "Sunskar Dhanker",
      "userId": "08080050347218288056"
     },
     "user_tz": 480
    },
    "id": "PmPQbWA-Sppv",
    "outputId": "12ab2a0c-f133-4e45-fd75-6df40da22180"
   },
   "outputs": [],
   "source": [
    "\n",
    "save_path = '../model/grade_prediction_model.pth'\n",
    "\n",
    "\n",
    "# Save the entire model\n",
    "torch.save(model, save_path)"
   ]
  },
  {
   "cell_type": "code",
   "execution_count": null,
   "metadata": {},
   "outputs": [],
   "source": []
  }
 ],
 "metadata": {
  "colab": {
   "provenance": []
  },
  "kernelspec": {
   "display_name": "Python 3 (ipykernel)",
   "language": "python",
   "name": "python3"
  },
  "language_info": {
   "codemirror_mode": {
    "name": "ipython",
    "version": 3
   },
   "file_extension": ".py",
   "mimetype": "text/x-python",
   "name": "python",
   "nbconvert_exporter": "python",
   "pygments_lexer": "ipython3",
   "version": "3.11.7"
  }
 },
 "nbformat": 4,
 "nbformat_minor": 1
}
