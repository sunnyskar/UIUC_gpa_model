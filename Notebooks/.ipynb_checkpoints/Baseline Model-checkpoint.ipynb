{
 "cells": [
  {
   "cell_type": "markdown",
   "metadata": {
    "id": "7V1CDCkY1oAo"
   },
   "source": [
    "# Part 1: Data Extraction Notebook\n"
   ]
  },
  {
   "cell_type": "markdown",
   "metadata": {
    "id": "TX3dxYoL1hty"
   },
   "source": [
    "# Setup and Imports"
   ]
  },
  {
   "cell_type": "markdown",
   "metadata": {
    "id": "NsscLsrzmPh6"
   },
   "source": [
    "In order to get the correct file path, you'll need to add this folder to your drive at the file path indicated below"
   ]
  },
  {
   "cell_type": "code",
   "execution_count": 1,
   "metadata": {
    "id": "2w1YyRoDzjMY"
   },
   "outputs": [],
   "source": [
    "# Put all imports here\n",
    "import numpy as np\n",
    "import pandas as pd\n",
    "from sklearn.model_selection import train_test_split\n",
    "from sklearn.linear_model import LogisticRegression\n",
    "from sklearn.preprocessing import OneHotEncoder\n",
    "from sklearn.metrics import mean_squared_error, mean_absolute_error"
   ]
  },
  {
   "cell_type": "code",
   "execution_count": 2,
   "metadata": {
    "colab": {
     "base_uri": "https://localhost:8080/",
     "height": 253
    },
    "executionInfo": {
     "elapsed": 4813,
     "status": "ok",
     "timestamp": 1731281955303,
     "user": {
      "displayName": "Sameer Sinha",
      "userId": "12623218309467002069"
     },
     "user_tz": 360
    },
    "id": "RbncrcrVYY0a",
    "outputId": "156cc16a-5d5a-4be7-ddcf-9b5a2df4458a"
   },
   "outputs": [
    {
     "data": {
      "text/html": [
       "<div>\n",
       "<style scoped>\n",
       "    .dataframe tbody tr th:only-of-type {\n",
       "        vertical-align: middle;\n",
       "    }\n",
       "\n",
       "    .dataframe tbody tr th {\n",
       "        vertical-align: top;\n",
       "    }\n",
       "\n",
       "    .dataframe thead th {\n",
       "        text-align: right;\n",
       "    }\n",
       "</style>\n",
       "<table border=\"1\" class=\"dataframe\">\n",
       "  <thead>\n",
       "    <tr style=\"text-align: right;\">\n",
       "      <th></th>\n",
       "      <th>Year</th>\n",
       "      <th>Term</th>\n",
       "      <th>YearTerm</th>\n",
       "      <th>Subject</th>\n",
       "      <th>Number</th>\n",
       "      <th>Course Title</th>\n",
       "      <th>Sched Type</th>\n",
       "      <th>A+</th>\n",
       "      <th>A</th>\n",
       "      <th>A-</th>\n",
       "      <th>...</th>\n",
       "      <th>B-</th>\n",
       "      <th>C+</th>\n",
       "      <th>C</th>\n",
       "      <th>C-</th>\n",
       "      <th>D+</th>\n",
       "      <th>D</th>\n",
       "      <th>D-</th>\n",
       "      <th>F</th>\n",
       "      <th>W</th>\n",
       "      <th>Primary Instructor</th>\n",
       "    </tr>\n",
       "  </thead>\n",
       "  <tbody>\n",
       "    <tr>\n",
       "      <th>0</th>\n",
       "      <td>2023</td>\n",
       "      <td>Spring</td>\n",
       "      <td>2023-sp</td>\n",
       "      <td>AAS</td>\n",
       "      <td>100</td>\n",
       "      <td>Intro Asian American Studies</td>\n",
       "      <td>DIS</td>\n",
       "      <td>0</td>\n",
       "      <td>11</td>\n",
       "      <td>5</td>\n",
       "      <td>...</td>\n",
       "      <td>0</td>\n",
       "      <td>0</td>\n",
       "      <td>0</td>\n",
       "      <td>0</td>\n",
       "      <td>0</td>\n",
       "      <td>0</td>\n",
       "      <td>0</td>\n",
       "      <td>1</td>\n",
       "      <td>0</td>\n",
       "      <td>Shin, Jeongsu</td>\n",
       "    </tr>\n",
       "    <tr>\n",
       "      <th>1</th>\n",
       "      <td>2023</td>\n",
       "      <td>Spring</td>\n",
       "      <td>2023-sp</td>\n",
       "      <td>AAS</td>\n",
       "      <td>100</td>\n",
       "      <td>Intro Asian American Studies</td>\n",
       "      <td>DIS</td>\n",
       "      <td>0</td>\n",
       "      <td>17</td>\n",
       "      <td>2</td>\n",
       "      <td>...</td>\n",
       "      <td>1</td>\n",
       "      <td>0</td>\n",
       "      <td>0</td>\n",
       "      <td>0</td>\n",
       "      <td>0</td>\n",
       "      <td>0</td>\n",
       "      <td>0</td>\n",
       "      <td>0</td>\n",
       "      <td>1</td>\n",
       "      <td>Shin, Jeongsu</td>\n",
       "    </tr>\n",
       "    <tr>\n",
       "      <th>2</th>\n",
       "      <td>2023</td>\n",
       "      <td>Spring</td>\n",
       "      <td>2023-sp</td>\n",
       "      <td>AAS</td>\n",
       "      <td>100</td>\n",
       "      <td>Intro Asian American Studies</td>\n",
       "      <td>DIS</td>\n",
       "      <td>0</td>\n",
       "      <td>13</td>\n",
       "      <td>2</td>\n",
       "      <td>...</td>\n",
       "      <td>2</td>\n",
       "      <td>0</td>\n",
       "      <td>0</td>\n",
       "      <td>1</td>\n",
       "      <td>0</td>\n",
       "      <td>0</td>\n",
       "      <td>0</td>\n",
       "      <td>1</td>\n",
       "      <td>0</td>\n",
       "      <td>Lee, Sabrina Y</td>\n",
       "    </tr>\n",
       "    <tr>\n",
       "      <th>3</th>\n",
       "      <td>2023</td>\n",
       "      <td>Spring</td>\n",
       "      <td>2023-sp</td>\n",
       "      <td>AAS</td>\n",
       "      <td>200</td>\n",
       "      <td>U.S. Race and Empire</td>\n",
       "      <td>LCD</td>\n",
       "      <td>6</td>\n",
       "      <td>15</td>\n",
       "      <td>5</td>\n",
       "      <td>...</td>\n",
       "      <td>0</td>\n",
       "      <td>0</td>\n",
       "      <td>0</td>\n",
       "      <td>0</td>\n",
       "      <td>0</td>\n",
       "      <td>1</td>\n",
       "      <td>0</td>\n",
       "      <td>1</td>\n",
       "      <td>0</td>\n",
       "      <td>Sawada, Emilia</td>\n",
       "    </tr>\n",
       "    <tr>\n",
       "      <th>4</th>\n",
       "      <td>2023</td>\n",
       "      <td>Spring</td>\n",
       "      <td>2023-sp</td>\n",
       "      <td>AAS</td>\n",
       "      <td>215</td>\n",
       "      <td>US Citizenship Comparatively</td>\n",
       "      <td>LCD</td>\n",
       "      <td>16</td>\n",
       "      <td>12</td>\n",
       "      <td>2</td>\n",
       "      <td>...</td>\n",
       "      <td>1</td>\n",
       "      <td>0</td>\n",
       "      <td>0</td>\n",
       "      <td>0</td>\n",
       "      <td>0</td>\n",
       "      <td>0</td>\n",
       "      <td>0</td>\n",
       "      <td>0</td>\n",
       "      <td>0</td>\n",
       "      <td>Kwon, Soo Ah</td>\n",
       "    </tr>\n",
       "  </tbody>\n",
       "</table>\n",
       "<p>5 rows × 22 columns</p>\n",
       "</div>"
      ],
      "text/plain": [
       "   Year    Term YearTerm Subject  Number                  Course Title  \\\n",
       "0  2023  Spring  2023-sp     AAS     100  Intro Asian American Studies   \n",
       "1  2023  Spring  2023-sp     AAS     100  Intro Asian American Studies   \n",
       "2  2023  Spring  2023-sp     AAS     100  Intro Asian American Studies   \n",
       "3  2023  Spring  2023-sp     AAS     200          U.S. Race and Empire   \n",
       "4  2023  Spring  2023-sp     AAS     215  US Citizenship Comparatively   \n",
       "\n",
       "  Sched Type  A+   A  A-  ...  B-  C+  C  C-  D+  D  D-  F  W  \\\n",
       "0        DIS   0  11   5  ...   0   0  0   0   0  0   0  1  0   \n",
       "1        DIS   0  17   2  ...   1   0  0   0   0  0   0  0  1   \n",
       "2        DIS   0  13   2  ...   2   0  0   1   0  0   0  1  0   \n",
       "3        LCD   6  15   5  ...   0   0  0   0   0  1   0  1  0   \n",
       "4        LCD  16  12   2  ...   1   0  0   0   0  0   0  0  0   \n",
       "\n",
       "   Primary Instructor  \n",
       "0       Shin, Jeongsu  \n",
       "1       Shin, Jeongsu  \n",
       "2      Lee, Sabrina Y  \n",
       "3      Sawada, Emilia  \n",
       "4        Kwon, Soo Ah  \n",
       "\n",
       "[5 rows x 22 columns]"
      ]
     },
     "execution_count": 2,
     "metadata": {},
     "output_type": "execute_result"
    }
   ],
   "source": [
    "fname=\"../data/uiuc-gpa-dataset.csv\"\n",
    "df=pd.read_csv(fname)\n",
    "df.head()"
   ]
  },
  {
   "cell_type": "markdown",
   "metadata": {
    "id": "k8pCuF7L1K2l"
   },
   "source": [
    "# Create Debug and Working Datasets"
   ]
  },
  {
   "cell_type": "code",
   "execution_count": 3,
   "metadata": {
    "id": "YyfFYCk70mVP"
   },
   "outputs": [],
   "source": [
    "debug_df = df.sample(n=100)  # Smaller sample for debugging\n",
    "working_df = df"
   ]
  },
  {
   "cell_type": "code",
   "execution_count": 4,
   "metadata": {
    "colab": {
     "base_uri": "https://localhost:8080/"
    },
    "executionInfo": {
     "elapsed": 232,
     "status": "ok",
     "timestamp": 1731266950475,
     "user": {
      "displayName": "Ritvik Goradia",
      "userId": "02310583117872608427"
     },
     "user_tz": 360
    },
    "id": "M0CD3eITmZrA",
    "outputId": "6c277208-05d6-4250-d8c4-e6df8b3f341c"
   },
   "outputs": [
    {
     "name": "stdout",
     "output_type": "stream",
     "text": [
      "       Year    Term YearTerm Subject  Number                  Course Title  \\\n",
      "52199  2013  Spring  2013-sp    NRES     421  Quantitative Methods in NRES   \n",
      "27488  2018  Summer  2018-su    SOCW     502    Brief Mot Interventions SU   \n",
      "62609  2011  Summer  2011-su     LAS     101              Freshman Seminar   \n",
      "67747  2010  Spring  2010-sp    HIST     120      East Asian Civilizations   \n",
      "64924  2010    Fall  2010-fa     FIN     434        Employee Benefit Plans   \n",
      "\n",
      "      Sched Type  A+   A  A-  ...  B-  C+  C  C-  D+  D  D-  F  W  \\\n",
      "52199        LCD   5  17  13  ...   1   5  0   2   1  0   0  0  0   \n",
      "27488        ONL  18   1   0  ...   0   0  0   1   0  0   0  0  0   \n",
      "62609        DIS   4  15   3  ...   0   0  0   0   0  0   1  1  0   \n",
      "67747        DIS   1   9   3  ...   3   0  1   0   0  0   0  1  0   \n",
      "64924        LCD   0   1   4  ...   2   1  0   0   0  0   0  0  0   \n",
      "\n",
      "       Primary Instructor  \n",
      "52199  Yannarell, Anthony  \n",
      "27488   Campbell, Corey C  \n",
      "62609     Hoffman, Ruth A  \n",
      "67747          Fu, Poshek  \n",
      "64924    Brown, Jeffrey R  \n",
      "\n",
      "[5 rows x 22 columns]\n",
      "   Year    Term YearTerm Subject  Number                  Course Title  \\\n",
      "0  2023  Spring  2023-sp     AAS     100  Intro Asian American Studies   \n",
      "1  2023  Spring  2023-sp     AAS     100  Intro Asian American Studies   \n",
      "2  2023  Spring  2023-sp     AAS     100  Intro Asian American Studies   \n",
      "3  2023  Spring  2023-sp     AAS     200          U.S. Race and Empire   \n",
      "4  2023  Spring  2023-sp     AAS     215  US Citizenship Comparatively   \n",
      "\n",
      "  Sched Type  A+   A  A-  ...  B-  C+  C  C-  D+  D  D-  F  W  \\\n",
      "0        DIS   0  11   5  ...   0   0  0   0   0  0   0  1  0   \n",
      "1        DIS   0  17   2  ...   1   0  0   0   0  0   0  0  1   \n",
      "2        DIS   0  13   2  ...   2   0  0   1   0  0   0  1  0   \n",
      "3        LCD   6  15   5  ...   0   0  0   0   0  1   0  1  0   \n",
      "4        LCD  16  12   2  ...   1   0  0   0   0  0   0  0  0   \n",
      "\n",
      "   Primary Instructor  \n",
      "0       Shin, Jeongsu  \n",
      "1       Shin, Jeongsu  \n",
      "2      Lee, Sabrina Y  \n",
      "3      Sawada, Emilia  \n",
      "4        Kwon, Soo Ah  \n",
      "\n",
      "[5 rows x 22 columns]\n"
     ]
    }
   ],
   "source": [
    "# Print the first few rows of debug_df\n",
    "print(debug_df.head())\n",
    "\n",
    "# Print the first few rows of working_df\n",
    "print(working_df.head())"
   ]
  },
  {
   "cell_type": "markdown",
   "metadata": {
    "id": "fb8qmS_c1Q_W"
   },
   "source": [
    "Pickle the datasets"
   ]
  },
  {
   "cell_type": "markdown",
   "metadata": {
    "id": "JySz8PrzJHwi"
   },
   "source": [
    "# Getting training data"
   ]
  },
  {
   "cell_type": "markdown",
   "metadata": {
    "id": "uy9YQ9DBTmu6"
   },
   "source": [
    "In this section, we are preparing the data to be used to train a Logisitic Regression model. We first convert our final letter grades into a single score for the class. Next we convert the class names into one-hot-encoded features (more details below).\n",
    "\n",
    "Lastly, we split this data up into 3 sections: Training (70%), Validation (15%), Testing (15%)."
   ]
  },
  {
   "cell_type": "code",
   "execution_count": 5,
   "metadata": {
    "colab": {
     "base_uri": "https://localhost:8080/"
    },
    "executionInfo": {
     "elapsed": 1916,
     "status": "ok",
     "timestamp": 1731281963572,
     "user": {
      "displayName": "Sameer Sinha",
      "userId": "12623218309467002069"
     },
     "user_tz": 360
    },
    "id": "YKERKTTNn5Zb",
    "outputId": "5f1cc5f8-c948-4b91-aca0-21a6bf03e23b"
   },
   "outputs": [
    {
     "name": "stdout",
     "output_type": "stream",
     "text": [
      "[100.          92.30769231  84.61538462  76.92307692  69.23076923\n",
      "  61.53846154  53.84615385  46.15384615  38.46153846  30.76923077\n",
      "  23.07692308  15.38461538   7.69230769   0.        ]\n",
      "2\n"
     ]
    }
   ],
   "source": [
    "grade_columns = ['A+', 'A', 'A-', 'B+', 'B', 'B-', 'C+', 'C', 'C-', 'D+', 'D', 'D-', 'F', 'W']\n",
    "grade_percent = np.linspace(100,0, len(grade_columns))\n",
    "print(grade_percent)\n",
    "\n",
    "temp = df[grade_columns].values\n",
    "Z = []\n",
    "for i in range(len(temp)):\n",
    "    score = np.sum(temp[i]*grade_percent)/np.sum(temp[i])\n",
    "    idx = (np.abs(grade_percent - score)).argmin()\n",
    "    Z.append(idx)\n",
    "Z = np.array(Z)\n",
    "print(Z[0])"
   ]
  },
  {
   "cell_type": "code",
   "execution_count": 6,
   "metadata": {
    "colab": {
     "base_uri": "https://localhost:8080/",
     "height": 35
    },
    "executionInfo": {
     "elapsed": 5,
     "status": "ok",
     "timestamp": 1731281963572,
     "user": {
      "displayName": "Sameer Sinha",
      "userId": "12623218309467002069"
     },
     "user_tz": 360
    },
    "id": "4TxoSdfgoiwC",
    "outputId": "a2010a64-d2f4-427d-b4f2-4624429bca7a"
   },
   "outputs": [
    {
     "data": {
      "text/plain": [
       "'AAS100'"
      ]
     },
     "execution_count": 6,
     "metadata": {},
     "output_type": "execute_result"
    }
   ],
   "source": [
    "parameter_columns = ['Subject', 'Number']\n",
    "temp = df[parameter_columns].values\n",
    "X = []\n",
    "for i in range(len(temp)):\n",
    "    X.append(str(temp[i,0]+str(temp[i,1])))\n",
    "X = np.array(X)\n",
    "X[0]"
   ]
  },
  {
   "cell_type": "code",
   "execution_count": 7,
   "metadata": {
    "id": "gANZPzfrKBKI"
   },
   "outputs": [],
   "source": [
    "enc = OneHotEncoder(sparse_output=False)\n",
    "X_onehot = enc.fit_transform(X.reshape(-1,1))"
   ]
  },
  {
   "cell_type": "code",
   "execution_count": 8,
   "metadata": {
    "colab": {
     "base_uri": "https://localhost:8080/"
    },
    "executionInfo": {
     "elapsed": 1972,
     "status": "ok",
     "timestamp": 1731281968868,
     "user": {
      "displayName": "Sameer Sinha",
      "userId": "12623218309467002069"
     },
     "user_tz": 360
    },
    "id": "iiA1CksikW5i",
    "outputId": "cbb80a78-15b7-48a7-de72-e43c26a47749"
   },
   "outputs": [
    {
     "name": "stdout",
     "output_type": "stream",
     "text": [
      "Training set size: (48348, 4576)\n",
      "Training set size: (48348,)\n",
      "Validation set size: (10360, 4576)\n",
      "Testing set size: (10361, 4576)\n"
     ]
    }
   ],
   "source": [
    "X_train, X_temp, Z_train, Z_temp = train_test_split(X_onehot, Z, test_size=0.3, random_state=42)\n",
    "X_val, X_test, Z_val, Z_test = train_test_split(X_temp, Z_temp, test_size=0.5, random_state=42)\n",
    "print(\"Training set size:\", X_train.shape)\n",
    "print(\"Training set size:\", Z_train.shape)\n",
    "print(\"Validation set size:\", X_val.shape)\n",
    "print(\"Testing set size:\", X_test.shape)"
   ]
  },
  {
   "cell_type": "markdown",
   "metadata": {
    "id": "242aNFvlRhii"
   },
   "source": [
    "# Baseline Logistic Regression Model"
   ]
  },
  {
   "cell_type": "markdown",
   "metadata": {
    "id": "r2_738X_RmpZ"
   },
   "source": [
    "For our baseline model, we are using only the classes as our features. Every class has been one-hot-encoded to represent a feature. Our output is the student's grade (A+, A, A-, etc.). In order to turn these into features, we have given each grade a numerical value, calculated the average score received by the students in that class that semester, and assigned a letter grade based on that (represented as a number 0-13).\n",
    "\n",
    "Thus each datapoint consists of a one-hot-encoded class with the corresponding output being average grade. We train our regression model on this data."
   ]
  },
  {
   "cell_type": "code",
   "execution_count": null,
   "metadata": {
    "colab": {
     "base_uri": "https://localhost:8080/",
     "height": 80
    },
    "executionInfo": {
     "elapsed": 324189,
     "status": "ok",
     "timestamp": 1731282300395,
     "user": {
      "displayName": "Sameer Sinha",
      "userId": "12623218309467002069"
     },
     "user_tz": 360
    },
    "id": "wwbLQGTSMQSC",
    "outputId": "ee24ca6e-a679-4f34-c4ec-28efc66662f0"
   },
   "outputs": [],
   "source": [
    "logreg = LogisticRegression(random_state=16, max_iter=1000)\n",
    "logreg.fit(X_train, Z_train)"
   ]
  },
  {
   "cell_type": "code",
   "execution_count": null,
   "metadata": {
    "colab": {
     "base_uri": "https://localhost:8080/"
    },
    "executionInfo": {
     "elapsed": 877,
     "status": "ok",
     "timestamp": 1731282314776,
     "user": {
      "displayName": "Sameer Sinha",
      "userId": "12623218309467002069"
     },
     "user_tz": 360
    },
    "id": "Ipl04qvINjlL",
    "outputId": "f2290281-1e4f-404d-9882-f4e984c63121"
   },
   "outputs": [],
   "source": [
    "z_pred = logreg.predict(X_val)\n",
    "print(\"Mean squared error:\", mean_squared_error(Z_val, z_pred))\n",
    "print(\"Mean absolute error:\", mean_absolute_error(Z_val, z_pred))"
   ]
  },
  {
   "cell_type": "markdown",
   "metadata": {
    "id": "hQ9EefqxTNWS"
   },
   "source": [
    "Thus we receive a mean absolute error of 0.676 and mean squared error of 1.00. This is a good starting point for our model. Next we will experiment with additional features, and eventually more complex models."
   ]
  },
  {
   "cell_type": "code",
   "execution_count": null,
   "metadata": {
    "id": "gFPg2hWmZoYB"
   },
   "outputs": [],
   "source": []
  },
  {
   "cell_type": "code",
   "execution_count": null,
   "metadata": {},
   "outputs": [],
   "source": []
  },
  {
   "cell_type": "code",
   "execution_count": null,
   "metadata": {},
   "outputs": [],
   "source": []
  }
 ],
 "metadata": {
  "colab": {
   "provenance": []
  },
  "kernelspec": {
   "display_name": "Python 3 (ipykernel)",
   "language": "python",
   "name": "python3"
  },
  "language_info": {
   "codemirror_mode": {
    "name": "ipython",
    "version": 3
   },
   "file_extension": ".py",
   "mimetype": "text/x-python",
   "name": "python",
   "nbconvert_exporter": "python",
   "pygments_lexer": "ipython3",
   "version": "3.11.7"
  }
 },
 "nbformat": 4,
 "nbformat_minor": 1
}
